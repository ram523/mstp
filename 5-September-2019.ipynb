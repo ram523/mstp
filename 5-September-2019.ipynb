{
 "cells": [
  {
   "cell_type": "markdown",
   "metadata": {},
   "source": [
    "## create function for number validator"
   ]
  },
  {
   "cell_type": "code",
   "execution_count": null,
   "metadata": {},
   "outputs": [],
   "source": [
    "import re\n",
    "def numbervalidator(number):\n",
    "    if re.search('^[9876]+\\d{9}$',number):\n",
    "        return True\n",
    "    return False\n",
    "\n",
    "    "
   ]
  },
  {
   "cell_type": "code",
   "execution_count": 11,
   "metadata": {},
   "outputs": [
    {
     "name": "stdout",
     "output_type": "stream",
     "text": [
      "9gghjgghiuh564313\n",
      "not valid\n"
     ]
    }
   ],
   "source": [
    "def num():\n",
    "    n=input()\n",
    "    if(numbervalidator(n)):\n",
    "        print('valid')\n",
    "    else:\n",
    "        print('not valid')\n",
    "num()"
   ]
  },
  {
   "cell_type": "markdown",
   "metadata": {},
   "source": [
    "## function for check given data valid or not"
   ]
  },
  {
   "cell_type": "code",
   "execution_count": 12,
   "metadata": {},
   "outputs": [],
   "source": [
    "def validation(n,m):\n",
    "    if re.search(n,m):\n",
    "        return True\n",
    "    return False\n",
    "    "
   ]
  },
  {
   "cell_type": "code",
   "execution_count": 18,
   "metadata": {},
   "outputs": [
    {
     "name": "stdout",
     "output_type": "stream",
     "text": [
      "^[9876]+\\d{9}$\n",
      "ugduygdyuftg\n",
      "not valid\n"
     ]
    }
   ],
   "source": [
    "def valid():\n",
    "    n=input()\n",
    "    m=input()\n",
    "    if(validation(n,m)):\n",
    "        print('valid')\n",
    "    else:\n",
    "        print('not valid')\n",
    "valid()"
   ]
  },
  {
   "cell_type": "markdown",
   "metadata": {},
   "source": [
    "## create function to check name validator\n"
   ]
  },
  {
   "cell_type": "code",
   "execution_count": 28,
   "metadata": {},
   "outputs": [
    {
     "name": "stdout",
     "output_type": "stream",
     "text": [
      "ram\n"
     ]
    },
    {
     "data": {
      "text/plain": [
       "True"
      ]
     },
     "execution_count": 28,
     "metadata": {},
     "output_type": "execute_result"
    }
   ],
   "source": [
    "import re\n",
    "def namevalidator(name):\n",
    "    if re.search('^[a-zA-z]+[ .]{0,1}[a-zA-Z]+$',name):\n",
    "        return True\n",
    "    return False\n",
    "name=input()\n",
    "namevalidator(name)\n",
    "    "
   ]
  },
  {
   "cell_type": "code",
   "execution_count": null,
   "metadata": {},
   "outputs": [],
   "source": []
  },
  {
   "cell_type": "code",
   "execution_count": null,
   "metadata": {},
   "outputs": [],
   "source": [
    "def personname():\n",
    "    name = input()\n",
    "    if(namevalidator(name)):\n",
    "        print('valid')\n",
    "    else:\n",
    "        print('not valid')\n",
    "personname()"
   ]
  },
  {
   "cell_type": "code",
   "execution_count": null,
   "metadata": {},
   "outputs": [],
   "source": [
    "print('ram')"
   ]
  },
  {
   "cell_type": "code",
   "execution_count": null,
   "metadata": {},
   "outputs": [],
   "source": []
  },
  {
   "cell_type": "markdown",
   "metadata": {},
   "source": [
    "# Files\n",
    "               Document to store informetion or data\n",
    "               ->text files,docs,sheets\n",
    "       READ AND WRITE\n",
    "                 ->open the files \n",
    "                 ->do operations what you required\n",
    "                 ->close the file\n",
    "             1.Reading the file(existing file)\n",
    "                ->open('filename','operation')  {operation ='r,w,a'}\n",
    "                     minimum 1 arg,max 2 arg\n",
    "                ->update mode   reading and writing operations at same time(r+==w+)\n",
    "                ->tell() is used to identify the position of the cursor\n",
    "                ->seek() is used to controlthe cursor in file\n",
    "                ->readline() is used to read one line from cursor\n",
    "                ->readlines() reads multiple lines in a file in list format"
   ]
  },
  {
   "cell_type": "markdown",
   "metadata": {},
   "source": [
    "## Read operation\n",
    "       "
   ]
  },
  {
   "cell_type": "code",
   "execution_count": 12,
   "metadata": {},
   "outputs": [
    {
     "name": "stdout",
     "output_type": "stream",
     "text": [
      "Line 1\n",
      "line 2\n",
      "line 3\n",
      "line 4\n"
     ]
    }
   ],
   "source": [
    "fh = open('Book.txt')\n",
    "data =fh.read()\n",
    "print(data)\n",
    "fh.close()"
   ]
  },
  {
   "cell_type": "markdown",
   "metadata": {},
   "source": [
    "## Write operation"
   ]
  },
  {
   "cell_type": "code",
   "execution_count": 16,
   "metadata": {},
   "outputs": [],
   "source": [
    "fh = open('notes.txt','w')\n",
    "fh.write('Hello world')\n",
    "fh.close()"
   ]
  },
  {
   "cell_type": "markdown",
   "metadata": {},
   "source": [
    "### write the content from book.txt to notes.txt"
   ]
  },
  {
   "cell_type": "code",
   "execution_count": 18,
   "metadata": {},
   "outputs": [],
   "source": [
    "fh = open('Book.txt','r')\n",
    "fh1 = open('notes.txt','w')\n",
    "data = fh.read()\n",
    "fh1.write(data)\n",
    "fh.close()\n",
    "fh1.close()"
   ]
  },
  {
   "cell_type": "markdown",
   "metadata": {},
   "source": [
    "### Append operatiion"
   ]
  },
  {
   "cell_type": "code",
   "execution_count": 33,
   "metadata": {},
   "outputs": [],
   "source": [
    "fh = open('Book.txt','a')\n",
    "\n",
    "fh.write('\\\\nline 5')\n",
    "fh.close()"
   ]
  },
  {
   "cell_type": "code",
   "execution_count": 41,
   "metadata": {},
   "outputs": [
    {
     "name": "stdout",
     "output_type": "stream",
     "text": [
      "no of lines in file 5\n",
      "no of chracters in file 56\n"
     ]
    }
   ],
   "source": [
    "count = 0\n",
    "count1 = 0\n",
    "fh = open('Book.txt','r')\n",
    "for line in fh:\n",
    "    count = count+1\n",
    "    for i in line:\n",
    "        count1 = count1+1\n",
    "fh.close()\n",
    "print(\"no of lines in file\",count)\n",
    "print(\"no of chracters in file\",count1)"
   ]
  },
  {
   "cell_type": "code",
   "execution_count": 58,
   "metadata": {},
   "outputs": [
    {
     "name": "stdout",
     "output_type": "stream",
     "text": [
      "line 3\n",
      "\n",
      "last charcater in the line =  3\n",
      "no of lines in the file =  4\n"
     ]
    }
   ],
   "source": [
    "no_of_l=0\n",
    "fh = open('notes.txt','r')\n",
    "for line in fh:\n",
    "    no_of_l +=1\n",
    "    if no_of_l==3:\n",
    "        print(line)\n",
    "        k=len(line)-2\n",
    "        print(\"last charcater in the line = \",line[k])\n",
    "fh.close()\n",
    "print(\"no of lines in the file = \",no_of_l)"
   ]
  },
  {
   "cell_type": "code",
   "execution_count": 65,
   "metadata": {},
   "outputs": [
    {
     "name": "stdout",
     "output_type": "stream",
     "text": [
      "3\n",
      "line 3\n",
      "\n"
     ]
    }
   ],
   "source": [
    "def retline(ln):\n",
    "    count = 0\n",
    "    fh = open('notes.txt','r')\n",
    "    for line in fh:\n",
    "        count +=1\n",
    "        if count == ln:\n",
    "            print(line)\n",
    "    fh.close()\n",
    "l=int(input())\n",
    "retline(l)"
   ]
  },
  {
   "cell_type": "code",
   "execution_count": 66,
   "metadata": {},
   "outputs": [
    {
     "name": "stdout",
     "output_type": "stream",
     "text": [
      "16\n"
     ]
    }
   ],
   "source": [
    "def findcharacters():\n",
    "    count = 0\n",
    "    fh = open('notes.txt','r')\n",
    "    for line in fh:\n",
    "        for i in line:\n",
    "            if i.isalpha():\n",
    "                count = count + 1\n",
    "    fh.close()\n",
    "    print(count)\n",
    "findcharacters()"
   ]
  },
  {
   "cell_type": "markdown",
   "metadata": {},
   "source": [
    "### count the frequency of given charcter"
   ]
  },
  {
   "cell_type": "code",
   "execution_count": 1,
   "metadata": {},
   "outputs": [
    {
     "name": "stdout",
     "output_type": "stream",
     "text": [
      "characterl\n",
      "enter filenotes.txt\n",
      "3\n"
     ]
    }
   ],
   "source": [
    "def frequency(ch,file):\n",
    "    count = 0\n",
    "    fh = open(file,'r')\n",
    "    for line in fh:\n",
    "        for i in line:\n",
    "            if i==ch:\n",
    "                count = count+1\n",
    "    fh.close()\n",
    "    print(count)\n",
    "m=input('character')\n",
    "n=input('enter file')\n",
    "frequency(m,n)"
   ]
  },
  {
   "cell_type": "markdown",
   "metadata": {},
   "source": [
    "### sum of digits in file"
   ]
  },
  {
   "cell_type": "code",
   "execution_count": 2,
   "metadata": {},
   "outputs": [
    {
     "name": "stdout",
     "output_type": "stream",
     "text": [
      "sum of digits in file =  10\n"
     ]
    }
   ],
   "source": [
    "def sum_of_digits():\n",
    "    count = 0\n",
    "    fh = open('notes.txt','r')\n",
    "    for line in fh:\n",
    "        for i in line:\n",
    "            if i.isnumeric():\n",
    "                count = count + int(i)\n",
    "    fh.close()\n",
    "    print(\"sum of digits in file = \",count)\n",
    "sum_of_digits()"
   ]
  },
  {
   "cell_type": "markdown",
   "metadata": {},
   "source": [
    "### old word replace with new word"
   ]
  },
  {
   "cell_type": "code",
   "execution_count": 10,
   "metadata": {},
   "outputs": [
    {
     "name": "stdout",
     "output_type": "stream",
     "text": [
      "8\n"
     ]
    }
   ],
   "source": [
    "def replace_word():\n",
    "    count = 0\n",
    "    fh = open('notes.txt','r')\n",
    "    for line in fh:\n",
    "        k = line.split()\n",
    "        for i in k:\n",
    "            count = count+1\n",
    "                \n",
    "    fh.close()\n",
    "    print(count)\n",
    "replace_word()"
   ]
  },
  {
   "cell_type": "code",
   "execution_count": 37,
   "metadata": {},
   "outputs": [
    {
     "name": "stdout",
     "output_type": "stream",
     "text": [
      "enter file namenotes.txt\n",
      "enter old nameline\n"
     ]
    }
   ],
   "source": [
    "def replace_word2(filename,oldname,newname):\n",
    "    count = 0\n",
    "    fh1 = open(filename,'r')\n",
    "    data = fh1.read()\n",
    "    data = data.replace(oldname,newname)\n",
    "    fh1.close()\n",
    "    fh = open(filename,'w')\n",
    "    fh.write(data)\n",
    "    fh.close()\n",
    "n=input(\"enter file name\")\n",
    "m=input(\"enter old name\")\n",
    "o=input(\"enter new name\")\n",
    "replace_word2(n,m,o)"
   ]
  },
  {
   "cell_type": "markdown",
   "metadata": {},
   "source": [
    "## create a function to remove given line number in file"
   ]
  },
  {
   "cell_type": "code",
   "execution_count": null,
   "metadata": {},
   "outputs": [],
   "source": []
  },
  {
   "cell_type": "markdown",
   "metadata": {},
   "source": [
    "## update mode"
   ]
  },
  {
   "cell_type": "code",
   "execution_count": 44,
   "metadata": {},
   "outputs": [
    {
     "name": "stdout",
     "output_type": "stream",
     "text": [
      "0\n",
      "27\n",
      "27\n",
      "ine 2\n",
      "line 3\n",
      "line 4\n"
     ]
    }
   ],
   "source": [
    "fh = open('notes.txt','r')\n",
    "print(fh.tell())\n",
    "data = fh.read()\n",
    "print(fh.tell())\n",
    "fh.seek(8)\n",
    "data = fh.read()\n",
    "print(fh.tell())\n",
    "print(data)\n",
    "fh.close()"
   ]
  },
  {
   "cell_type": "code",
   "execution_count": 45,
   "metadata": {},
   "outputs": [
    {
     "name": "stdout",
     "output_type": "stream",
     "text": [
      "\n"
     ]
    }
   ],
   "source": [
    "fh = open('notes.txt','w+')\n",
    "\n",
    "print(fh.read())\n",
    "\n",
    "fh.close()"
   ]
  },
  {
   "cell_type": "code",
   "execution_count": 55,
   "metadata": {},
   "outputs": [
    {
     "name": "stdout",
     "output_type": "stream",
     "text": [
      "['line 2\\n', 'line 3\\n', 'line 4\\n']\n"
     ]
    }
   ],
   "source": [
    "fh = open('notes.txt','r')\n",
    "data = fh.readline()\n",
    "data = fh.readlines()\n",
    "print(data)\n",
    "fh.close()"
   ]
  },
  {
   "cell_type": "code",
   "execution_count": 86,
   "metadata": {},
   "outputs": [],
   "source": [
    "fh = open('Book.txt','r')\n",
    "fh1 = open('output.txt','w')\n",
    "fh1.write(\"rno      name     english     math      total \\n\")\n",
    "count = 0\n",
    "for line in fh:\n",
    "    if count>=1:\n",
    "        k=line.split()\n",
    "        m=int(k[2])\n",
    "        n=int(k[3])\n",
    "        fh1.write(k[0]+\"         \"+k[1]+ \"        \"+k[2]+\"         \"+k[3]+\"        \"+(str(m+n))+\"\\n \")\n",
    "    count+=1\n",
    "fh.close()\n",
    "fh1.close()\n"
   ]
  },
  {
   "cell_type": "code",
   "execution_count": null,
   "metadata": {},
   "outputs": [],
   "source": []
  },
  {
   "cell_type": "code",
   "execution_count": null,
   "metadata": {},
   "outputs": [],
   "source": []
  }
 ],
 "metadata": {
  "kernelspec": {
   "display_name": "Python 3",
   "language": "python",
   "name": "python3"
  },
  "language_info": {
   "codemirror_mode": {
    "name": "ipython",
    "version": 3
   },
   "file_extension": ".py",
   "mimetype": "text/x-python",
   "name": "python",
   "nbconvert_exporter": "python",
   "pygments_lexer": "ipython3",
   "version": "3.7.3"
  }
 },
 "nbformat": 4,
 "nbformat_minor": 2
}
