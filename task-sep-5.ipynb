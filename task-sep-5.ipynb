{
 "cells": [
  {
   "cell_type": "markdown",
   "metadata": {},
   "source": [
    "# sept 5"
   ]
  },
  {
   "cell_type": "markdown",
   "metadata": {},
   "source": [
    "# 1 find the number of liner in the book.txt file"
   ]
  },
  {
   "cell_type": "code",
   "execution_count": 7,
   "metadata": {},
   "outputs": [
    {
     "name": "stdout",
     "output_type": "stream",
     "text": [
      "5\n",
      "['line 1\\n', 'line 2\\n', 'line 3\\n', 'line 4\\n', 'line 5']\n"
     ]
    }
   ],
   "source": [
    "file = open('book.txt','r')\n",
    "data=file.readlines()\n",
    "print(len(data),data,sep=\"\\n\")\n",
    "file.close()"
   ]
  },
  {
   "cell_type": "markdown",
   "metadata": {},
   "source": [
    "# 2. print 3 rd line in the file"
   ]
  },
  {
   "cell_type": "code",
   "execution_count": 8,
   "metadata": {},
   "outputs": [
    {
     "name": "stdout",
     "output_type": "stream",
     "text": [
      "line 3\n",
      "\n"
     ]
    }
   ],
   "source": [
    "file = open('book.txt','r')\n",
    "data=file.readlines()\n",
    "print(data[2])\n",
    "file.close()"
   ]
  },
  {
   "cell_type": "markdown",
   "metadata": {},
   "source": [
    "# 3. print last character in the line 3"
   ]
  },
  {
   "cell_type": "code",
   "execution_count": 13,
   "metadata": {},
   "outputs": [
    {
     "name": "stdout",
     "output_type": "stream",
     "text": [
      "3\n"
     ]
    }
   ],
   "source": [
    "file = open('book.txt','r')\n",
    "data=file.readlines()\n",
    "print(data[2][-2])\n",
    "file.close()"
   ]
  },
  {
   "cell_type": "markdown",
   "metadata": {},
   "source": [
    "# 4 . create function to return the data in the given line number"
   ]
  },
  {
   "cell_type": "code",
   "execution_count": 19,
   "metadata": {},
   "outputs": [
    {
     "name": "stdout",
     "output_type": "stream",
     "text": [
      "4\n",
      "data :  line 4\n",
      "\n"
     ]
    }
   ],
   "source": [
    "def dataInLine(a):\n",
    "    data=file.readlines()\n",
    "    return data[a]\n",
    "file = open('book.txt','r')\n",
    "n=int(input())\n",
    "print('data : ',dataInLine(n-1))\n",
    "file.close()"
   ]
  },
  {
   "cell_type": "markdown",
   "metadata": {},
   "source": [
    "# 5 . create a function to find the number of characters in the file"
   ]
  },
  {
   "cell_type": "code",
   "execution_count": 23,
   "metadata": {},
   "outputs": [
    {
     "name": "stdout",
     "output_type": "stream",
     "text": [
      "book.txt\n",
      "data :  34\n"
     ]
    }
   ],
   "source": [
    "def noChatactersInFile(fn):\n",
    "    file = open(fn,'r')\n",
    "    data=file.read()\n",
    "    file.close()\n",
    "    return len(data)\n",
    "\n",
    "name=input()\n",
    "print('data : ',noChatactersInFile(name))\n"
   ]
  },
  {
   "cell_type": "markdown",
   "metadata": {},
   "source": [
    "# 6 . create a function to count the occurence of the given character"
   ]
  },
  {
   "cell_type": "code",
   "execution_count": 29,
   "metadata": {},
   "outputs": [
    {
     "name": "stdout",
     "output_type": "stream",
     "text": [
      "book.txt\n",
      "l\n",
      "data :  5\n"
     ]
    }
   ],
   "source": [
    "def OccurenceOfCharInFile(fn,val):\n",
    "    import re\n",
    "    file = open(fn,'r')\n",
    "    data=file.read()\n",
    "    r=re.findall(val,data)\n",
    "    file.close()\n",
    "    return len(r)\n",
    "\n",
    "name=input()\n",
    "a=input()\n",
    "print('data : ',OccurenceOfCharInFile(name,a))\n"
   ]
  },
  {
   "cell_type": "markdown",
   "metadata": {},
   "source": [
    "# 7 . create a function to find the sum of digits in the file"
   ]
  },
  {
   "cell_type": "code",
   "execution_count": 31,
   "metadata": {},
   "outputs": [
    {
     "name": "stdout",
     "output_type": "stream",
     "text": [
      "15\n"
     ]
    }
   ],
   "source": [
    "def sumDigits(fname):\n",
    "    file=open(fname,'r')\n",
    "    c=0\n",
    "    data=file.read()\n",
    "    for i in data:\n",
    "        if i.isdigit():\n",
    "            c+=int(i)\n",
    "    file.close()\n",
    "    return c\n",
    "\n",
    "sumDigits('book.txt')"
   ]
  },
  {
   "cell_type": "markdown",
   "metadata": {},
   "source": [
    "# 8 . create a function to replace all old words with new word in the file"
   ]
  },
  {
   "cell_type": "code",
   "execution_count": 46,
   "metadata": {},
   "outputs": [
    {
     "name": "stdout",
     "output_type": "stream",
     "text": [
      "q\n",
      "line\n",
      "line_\n",
      "['line1\\nline2\\nline3\\nline4\\nline5']\n"
     ]
    }
   ],
   "source": [
    "def replaceWord(fname,ow,nw):\n",
    "    file=open(fname,'r')\n",
    "    c=0\n",
    "    data=file.read()\n",
    "    data=data.split(' ')\n",
    "    file.close()\n",
    "    file=open(fname,'w')\n",
    "    for i in data:\n",
    "        if i==ow:\n",
    "            file.write(nw)\n",
    "        else:\n",
    "            file.write(i)\n",
    "    file.close()\n",
    "    return data\n",
    "name=input()\n",
    "a=input()\n",
    "b=input()\n",
    "print(replaceWord('book.txt',a,b))"
   ]
  },
  {
   "cell_type": "code",
   "execution_count": null,
   "metadata": {},
   "outputs": [],
   "source": []
  }
 ],
 "metadata": {
  "kernelspec": {
   "display_name": "Python 3",
   "language": "python",
   "name": "python3"
  },
  "language_info": {
   "codemirror_mode": {
    "name": "ipython",
    "version": 3
   },
   "file_extension": ".py",
   "mimetype": "text/x-python",
   "name": "python",
   "nbconvert_exporter": "python",
   "pygments_lexer": "ipython3",
   "version": "3.7.3"
  }
 },
 "nbformat": 4,
 "nbformat_minor": 2
}
