{
 "cells": [
  {
   "cell_type": "code",
   "execution_count": 7,
   "metadata": {},
   "outputs": [
    {
     "name": "stdout",
     "output_type": "stream",
     "text": [
      "50\n",
      "2 3 5 7 11 13 17 19 23 29 31 37 41 43 47 53 59 61 67 71 73 79 83 89 97 101 103 107 109 113 127 131 137 139 149 151 157 163 167 173 179 181 191 193 197 199 211 223 227 229 "
     ]
    }
   ],
   "source": [
    "n=int(input())\n",
    "i=2\n",
    "l=1\n",
    "while l<=n:\n",
    "    flag=0\n",
    "    for k in range (2,i):\n",
    "        if(i%k==0):\n",
    "            flag=1\n",
    "            break\n",
    "    if(flag==1):\n",
    "        i=i+1\n",
    "    else:\n",
    "        print(i,end=' ')\n",
    "        i=i+1\n",
    "        l=l+1"
   ]
  },
  {
   "cell_type": "code",
   "execution_count": 9,
   "metadata": {},
   "outputs": [
    {
     "name": "stdout",
     "output_type": "stream",
     "text": [
      "hello\n"
     ]
    }
   ],
   "source": [
    "print(\"hello\")"
   ]
  },
  {
   "cell_type": "code",
   "execution_count": 37,
   "metadata": {},
   "outputs": [
    {
     "name": "stdout",
     "output_type": "stream",
     "text": [
      "6\n",
      "            * \n",
      "          * \n",
      "        * \n",
      "      * \n",
      "    * \n",
      "  * \n"
     ]
    }
   ],
   "source": [
    "n=int(input())\n",
    "for i in range(n,0,-1):\n",
    "    for j in range(0,i+1):\n",
    "        if(j<i):\n",
    "            print(' ',end=' ')\n",
    "        else:\n",
    "            print(\"*\",end=' ')\n",
    "    print(end='\\n')    "
   ]
  },
  {
   "cell_type": "code",
   "execution_count": 23,
   "metadata": {},
   "outputs": [
    {
     "ename": "SyntaxError",
     "evalue": "invalid syntax (<ipython-input-23-0328fbe067cd>, line 1)",
     "output_type": "error",
     "traceback": [
      "\u001b[1;36m  File \u001b[1;32m\"<ipython-input-23-0328fbe067cd>\"\u001b[1;36m, line \u001b[1;32m1\u001b[0m\n\u001b[1;33m    for in range(0,6):\u001b[0m\n\u001b[1;37m         ^\u001b[0m\n\u001b[1;31mSyntaxError\u001b[0m\u001b[1;31m:\u001b[0m invalid syntax\n"
     ]
    }
   ],
   "source": [
    "for in range(0,6):\n",
    "    for j in range()"
   ]
  },
  {
   "cell_type": "code",
   "execution_count": 24,
   "metadata": {},
   "outputs": [],
   "source": [
    "###square root of a given number without using library function"
   ]
  },
  {
   "cell_type": "code",
   "execution_count": 27,
   "metadata": {},
   "outputs": [
    {
     "name": "stdout",
     "output_type": "stream",
     "text": [
      "enter number5\n",
      "2.23606797749979\n"
     ]
    }
   ],
   "source": [
    "n=int(input(\"enter number\"))\n",
    "temp=n\n",
    "sqrt=n/2\n",
    "while(temp!=sqrt):\n",
    "    temp=sqrt;\n",
    "    sqrt=(n/temp+temp)/2\n",
    "print(sqrt)"
   ]
  },
  {
   "cell_type": "markdown",
   "metadata": {},
   "source": [
    "####square root of a number using function"
   ]
  },
  {
   "cell_type": "code",
   "execution_count": 31,
   "metadata": {},
   "outputs": [
    {
     "name": "stdout",
     "output_type": "stream",
     "text": [
      "enter nummber25\n",
      "5.0\n"
     ]
    }
   ],
   "source": [
    "import math\n",
    "n=int(input(\"enter nummber\"))\n",
    "k=math.sqrt(n)\n",
    "print(k)"
   ]
  },
  {
   "cell_type": "code",
   "execution_count": 33,
   "metadata": {},
   "outputs": [
    {
     "name": "stdout",
     "output_type": "stream",
     "text": [
      "enter number5\n",
      "2.23606797749979\n"
     ]
    }
   ],
   "source": [
    "n=int(input(\"enter number\"))\n",
    "sqrt=(n)**(1/2)\n",
    "print(sqrt)"
   ]
  },
  {
   "cell_type": "markdown",
   "metadata": {},
   "source": [
    "###### print count of numbers in sinlge line"
   ]
  },
  {
   "cell_type": "code",
   "execution_count": 6,
   "metadata": {},
   "outputs": [
    {
     "name": "stdout",
     "output_type": "stream",
     "text": [
      "1 2 3 4\n",
      "2.5\n"
     ]
    }
   ],
   "source": [
    "s=input()\n",
    "s=s.split()\n",
    "sum=0\n",
    "j=0\n",
    "for i in s:\n",
    "    sum=sum+int(i)\n",
    "    j=j+1\n",
    "print(sum/j)"
   ]
  },
  {
   "cell_type": "code",
   "execution_count": 5,
   "metadata": {},
   "outputs": [
    {
     "name": "stdout",
     "output_type": "stream",
     "text": [
      "enter lower value1\n",
      "enter higher value10\n",
      "enter which no do u want to divide3\n",
      "3\n",
      "6\n",
      "9\n",
      "the no of divisors is 3\n"
     ]
    }
   ],
   "source": [
    "l=int(input(\"enter lower value\"))\n",
    "r=int(input(\"enter higher value\"))\n",
    "k=int(input(\"enter which no do u want to divide\"))\n",
    "count=0\n",
    "while l<=r:\n",
    "    if l%k==0:\n",
    "        count=count+1\n",
    "        print(l)\n",
    "        l=l+1\n",
    "    else:\n",
    "        l=l+1\n",
    "print(\"the no of divisors is\",count)"
   ]
  },
  {
   "cell_type": "markdown",
   "metadata": {},
   "source": [
    "###isbn no"
   ]
  },
  {
   "cell_type": "code",
   "execution_count": 19,
   "metadata": {},
   "outputs": [
    {
     "name": "stdout",
     "output_type": "stream",
     "text": [
      "1234567890\n",
      "285\n",
      "not a valid isbn\n"
     ]
    }
   ],
   "source": [
    "n=int(input())\n",
    "j=10\n",
    "sum=0\n",
    "while(n>0):\n",
    "    rem=n%10\n",
    "    sum=sum+rem*j\n",
    "    j=j-1\n",
    "    n=n//10\n",
    "print(sum)\n",
    "if(sum%11==0):\n",
    "    print(\"valid isbn\")\n",
    "else:\n",
    "    print(\"not a valid isbn\")"
   ]
  },
  {
   "cell_type": "markdown",
   "metadata": {},
   "source": [
    "####Palindrome of a string"
   ]
  },
  {
   "cell_type": "code",
   "execution_count": 2,
   "metadata": {},
   "outputs": [
    {
     "name": "stdout",
     "output_type": "stream",
     "text": [
      "enter stringmadam\n",
      "given string is palidrome\n"
     ]
    }
   ],
   "source": [
    "s=input(\"enter string\")\n",
    "s1=s[::-1]\n",
    "if(s1==s):\n",
    "    print(\"given string is palidrome\")\n",
    "else:\n",
    "    print(\"not palindrome\")"
   ]
  },
  {
   "cell_type": "markdown",
   "metadata": {},
   "source": [
    "###toggle string"
   ]
  },
  {
   "cell_type": "code",
   "execution_count": 3,
   "metadata": {},
   "outputs": [
    {
     "name": "stdout",
     "output_type": "stream",
     "text": [
      "enter stringSWaran Ansgara\n",
      "swARAN aNSGARA\n"
     ]
    }
   ],
   "source": [
    "s=input(\"enter string\")\n",
    "print(s.swapcase())"
   ]
  },
  {
   "cell_type": "code",
   "execution_count": null,
   "metadata": {},
   "outputs": [],
   "source": [
    "s=input()\n",
    "s1=input()\n",
    "if len(s)==len(s1):\n",
    "    if s==s1:\n",
    "        print(\"both are identical\")\n",
    "    else:\n",
    "        print(\"not identical\")\n",
    "else:\n",
    "    print(\"not identical\")\n",
    "    "
   ]
  },
  {
   "cell_type": "code",
   "execution_count": null,
   "metadata": {},
   "outputs": [],
   "source": [
    "s=input()\n",
    "for i in s:\n",
    "    b=ord(i)-ord('a')+1\n",
    "    print(i)\n",
    "print(b)"
   ]
  },
  {
   "cell_type": "markdown",
   "metadata": {},
   "source": [
    "#### emazie"
   ]
  },
  {
   "cell_type": "code",
   "execution_count": 18,
   "metadata": {},
   "outputs": [
    {
     "name": "stdout",
     "output_type": "stream",
     "text": [
      "lrd\n",
      "-1 -1\n"
     ]
    }
   ],
   "source": [
    "s=input()\n",
    "L=0\n",
    "R=0\n",
    "D=0\n",
    "U=0\n",
    "X=0\n",
    "Y=0\n",
    "for i in s:\n",
    "    if i=='l':\n",
    "        L=(L-1)\n",
    "        X=L-R\n",
    "        Y=U\n",
    "    if i=='r':\n",
    "        R=R+1\n",
    "        X=R-(-L)\n",
    "        Y=D\n",
    "    if i=='d':\n",
    "        D=D-1\n",
    "        Y=D-U\n",
    "        X=L\n",
    "    if i=='u':\n",
    "        U=U+1\n",
    "        Y=U-D\n",
    "        X=R\n",
    "print(X,Y)"
   ]
  },
  {
   "cell_type": "markdown",
   "metadata": {},
   "source": [
    "### create a function for a factorial of a number"
   ]
  },
  {
   "cell_type": "code",
   "execution_count": 3,
   "metadata": {},
   "outputs": [
    {
     "name": "stdout",
     "output_type": "stream",
     "text": [
      "enter number5\n",
      "120\n"
     ]
    }
   ],
   "source": [
    "def fact():\n",
    "    n=int(input(\"enter number\"))\n",
    "    fact1=1\n",
    "    for i in range(1,n+1):\n",
    "        fact1=fact1*i\n",
    "    print(fact1)\n",
    "fact()\n",
    "    "
   ]
  },
  {
   "cell_type": "markdown",
   "metadata": {},
   "source": [
    "## create a function for factorial of a number using recursion"
   ]
  },
  {
   "cell_type": "code",
   "execution_count": 5,
   "metadata": {},
   "outputs": [
    {
     "name": "stdout",
     "output_type": "stream",
     "text": [
      "enter number5\n",
      "4\n"
     ]
    }
   ],
   "source": [
    "def factorial():\n",
    "    n=int(input(\"enter number\"))\n",
    "    fact1=1\n",
    "    if n==0:\n",
    "        return fact1\n",
    "    else:\n",
    "        fact1=fact1*(n-1)\n",
    "        \n",
    "    print(fact1)\n",
    "factorial()\n",
    "        \n",
    "    "
   ]
  },
  {
   "cell_type": "markdown",
   "metadata": {},
   "source": [
    "## list of factors to a given number\n"
   ]
  },
  {
   "cell_type": "code",
   "execution_count": 7,
   "metadata": {},
   "outputs": [
    {
     "name": "stdout",
     "output_type": "stream",
     "text": [
      "1\n",
      "2\n",
      "3\n",
      "6\n"
     ]
    }
   ],
   "source": [
    "def factors(n):\n",
    "    for i in range(1,n+1):\n",
    "        if(n%i==0):\n",
    "            print(i)\n",
    "factors(6)"
   ]
  },
  {
   "cell_type": "markdown",
   "metadata": {},
   "source": [
    "## numbers divisible by 6 and not factor of 100"
   ]
  },
  {
   "cell_type": "code",
   "execution_count": null,
   "metadata": {},
   "outputs": [],
   "source": [
    "def div():\n",
    "    lb=int(input(\"enter lower bound\"))\n",
    "    ub=int(input(\"enter upper bound\"))\n",
    "    while(lb<=ub):\n",
    "        if(lb%6==0 and lb%100 !=0):\n",
    "            print(lb,end=' ')\n",
    "        lb=lb+1\n",
    "div()"
   ]
  },
  {
   "cell_type": "markdown",
   "metadata": {},
   "source": [
    "## find the average of a first 10 prime numbres"
   ]
  },
  {
   "cell_type": "code",
   "execution_count": null,
   "metadata": {},
   "outputs": [
    {
     "name": "stdout",
     "output_type": "stream",
     "text": [
      "10\n"
     ]
    }
   ],
   "source": [
    "def averages():\n",
    "    n=int(input())\n",
    "    i=2\n",
    "    l=1\n",
    "    while l<=n:\n",
    "        flag=0\n",
    "        for k in range (2,i):\n",
    "            if(i%k==0):\n",
    "                flag=1\n",
    "                break\n",
    "            if(flag==1):\n",
    "                i=i+1\n",
    "            else:\n",
    "                print(i,end=' ')\n",
    "                i=i+1\n",
    "                l=l+1\n",
    "averages()"
   ]
  },
  {
   "cell_type": "code",
   "execution_count": 28,
   "metadata": {},
   "outputs": [
    {
     "name": "stdout",
     "output_type": "stream",
     "text": [
      "sum of digits= 10\n",
      "number of digits= 4\n",
      "average = 2.5\n",
      "total no of charcters= 13\n"
     ]
    }
   ],
   "source": [
    "data = 'sairam 1234 lakshmi'\n",
    "i=0\n",
    "count=0\n",
    "total=0\n",
    "for each in data:\n",
    "    if each.isdigit():\n",
    "        total = total+int(each)\n",
    "        i+=1\n",
    "    if each.isalpha():\n",
    "        count+=1\n",
    "print('sum of digits=',total)\n",
    "print('number of digits=',i)\n",
    "print('average =',total/i)\n",
    "print('total no of charcters=',count)"
   ]
  },
  {
   "cell_type": "code",
   "execution_count": 40,
   "metadata": {},
   "outputs": [
    {
     "name": "stdout",
     "output_type": "stream",
     "text": [
      "lucky number\n"
     ]
    }
   ],
   "source": [
    "total=0\n",
    "data1 ='sairam 1234 lakshmi' \n",
    "for each in data1:\n",
    "    if each.isdigit():\n",
    "        total = total+int(each)\n",
    "if 0<total<=10:\n",
    "    print('lucky number')\n",
    "else:\n",
    "    result = count\n",
    "    \n",
    "        "
   ]
  },
  {
   "cell_type": "code",
   "execution_count": 22,
   "metadata": {},
   "outputs": [
    {
     "data": {
      "text/plain": [
       "3"
      ]
     },
     "execution_count": 22,
     "metadata": {},
     "output_type": "execute_result"
    }
   ],
   "source": [
    "def count():\n",
    "    while total>0:\n",
    "            rem=total%10\n",
    "            k=k+rem\n",
    "            total = total//10\n",
    "    return total\n",
    "        "
   ]
  },
  {
   "cell_type": "markdown",
   "metadata": {},
   "source": [
    "### lucky number"
   ]
  },
  {
   "cell_type": "code",
   "execution_count": null,
   "metadata": {},
   "outputs": [],
   "source": [
    "def sumOfdigits(data):\n",
    "    total = 0\n",
    "    for each in data:\n",
    "        if each.isdigit():\n",
    "            total = total+each\n"
   ]
  },
  {
   "cell_type": "code",
   "execution_count": 44,
   "metadata": {},
   "outputs": [
    {
     "ename": "NameError",
     "evalue": "name 'sumOfdigits' is not defined",
     "output_type": "error",
     "traceback": [
      "\u001b[1;31m---------------------------------------------------------------------------\u001b[0m",
      "\u001b[1;31mNameError\u001b[0m                                 Traceback (most recent call last)",
      "\u001b[1;32m<ipython-input-44-7a1da3f78e2f>\u001b[0m in \u001b[0;36m<module>\u001b[1;34m\u001b[0m\n\u001b[0;32m      1\u001b[0m \u001b[0mdata\u001b[0m \u001b[1;33m=\u001b[0m\u001b[1;34m'1234'\u001b[0m\u001b[1;33m\u001b[0m\u001b[1;33m\u001b[0m\u001b[0m\n\u001b[0;32m      2\u001b[0m \u001b[1;32mwhile\u001b[0m \u001b[1;32mTrue\u001b[0m\u001b[1;33m:\u001b[0m\u001b[1;33m\u001b[0m\u001b[1;33m\u001b[0m\u001b[0m\n\u001b[1;32m----> 3\u001b[1;33m     \u001b[0mresult\u001b[0m \u001b[1;33m=\u001b[0m \u001b[0mstr\u001b[0m\u001b[1;33m(\u001b[0m\u001b[0msumOfdigits\u001b[0m\u001b[1;33m(\u001b[0m\u001b[0mdata\u001b[0m\u001b[1;33m)\u001b[0m\u001b[1;33m)\u001b[0m\u001b[1;33m\u001b[0m\u001b[1;33m\u001b[0m\u001b[0m\n\u001b[0m\u001b[0;32m      4\u001b[0m     \u001b[1;32mif\u001b[0m \u001b[0mlen\u001b[0m\u001b[1;33m(\u001b[0m\u001b[0mresullt\u001b[0m\u001b[1;33m)\u001b[0m\u001b[1;33m>\u001b[0m\u001b[1;36m1\u001b[0m\u001b[1;33m:\u001b[0m\u001b[1;33m\u001b[0m\u001b[1;33m\u001b[0m\u001b[0m\n\u001b[0;32m      5\u001b[0m         \u001b[0mdata\u001b[0m \u001b[1;33m=\u001b[0m \u001b[0mresult\u001b[0m\u001b[1;33m\u001b[0m\u001b[1;33m\u001b[0m\u001b[0m\n",
      "\u001b[1;31mNameError\u001b[0m: name 'sumOfdigits' is not defined"
     ]
    }
   ],
   "source": [
    "data ='1234'\n",
    "while True:\n",
    "    result = str(sumOfdigits(data))\n",
    "    if len(resullt)>1:\n",
    "        data = result\n",
    "    else:\n",
    "        break\n",
    "print(result)"
   ]
  },
  {
   "cell_type": "markdown",
   "metadata": {},
   "source": [
    "## Dictionaries"
   ]
  },
  {
   "cell_type": "code",
   "execution_count": 45,
   "metadata": {},
   "outputs": [
    {
     "data": {
      "text/plain": [
       "{'name': 'ram', 'no': 523, 'gender': 'male'}"
      ]
     },
     "execution_count": 45,
     "metadata": {},
     "output_type": "execute_result"
    }
   ],
   "source": [
    "a = {'name':'ram','no':523,'gender':'male'}\n",
    "a"
   ]
  },
  {
   "cell_type": "code",
   "execution_count": 46,
   "metadata": {},
   "outputs": [
    {
     "data": {
      "text/plain": [
       "dict_items([('name', 'ram'), ('no', 523), ('gender', 'male')])"
      ]
     },
     "execution_count": 46,
     "metadata": {},
     "output_type": "execute_result"
    }
   ],
   "source": [
    "a.items()"
   ]
  },
  {
   "cell_type": "code",
   "execution_count": 47,
   "metadata": {},
   "outputs": [
    {
     "data": {
      "text/plain": [
       "dict_keys(['name', 'no', 'gender'])"
      ]
     },
     "execution_count": 47,
     "metadata": {},
     "output_type": "execute_result"
    }
   ],
   "source": [
    "a.keys()"
   ]
  },
  {
   "cell_type": "code",
   "execution_count": null,
   "metadata": {},
   "outputs": [],
   "source": []
  },
  {
   "cell_type": "code",
   "execution_count": 50,
   "metadata": {},
   "outputs": [
    {
     "name": "stdout",
     "output_type": "stream",
     "text": [
      "{'digits': 8, 'alpha': 6}\n"
     ]
    }
   ],
   "source": [
    "data = '1234sairam1234'\n",
    "result = {}\n",
    "for c in data:\n",
    "    if c.isalpha():\n",
    "        result['alpha']=result.get('alpha',0)+1\n",
    "    if c.isdigit():\n",
    "        result['digits']=result.get('digits',0)+1\n",
    "print(result)\n",
    "        \n",
    "        \n",
    "        "
   ]
  },
  {
   "cell_type": "markdown",
   "metadata": {},
   "source": [
    "### find frequency of characters\n"
   ]
  },
  {
   "cell_type": "code",
   "execution_count": 57,
   "metadata": {},
   "outputs": [
    {
     "name": "stdout",
     "output_type": "stream",
     "text": [
      "{'p': 2, 'y': 1, 't': 1, 'h': 1, 'o': 2, 'n': 1, 'r': 2, 'g': 1, 'a': 1, 'm': 1}\n"
     ]
    }
   ],
   "source": [
    "name = 'python program'\n",
    "frequency = {}\n",
    "for character in name:\n",
    "     if character.isalpha():\n",
    "        frequency[character]=frequency.get(character,0)+1\n",
    "print(frequency)"
   ]
  },
  {
   "cell_type": "code",
   "execution_count": 61,
   "metadata": {},
   "outputs": [],
   "source": [
    "urls = ['www.google.com','www.yahoo.com','www.gmail.com','www.google.com']\n",
    "frequency1={}"
   ]
  },
  {
   "cell_type": "code",
   "execution_count": 62,
   "metadata": {},
   "outputs": [
    {
     "data": {
      "text/plain": [
       "{'www.google.com': 2, 'www.yahoo.com': 1, 'www.gmail.com': 1}"
      ]
     },
     "execution_count": 62,
     "metadata": {},
     "output_type": "execute_result"
    }
   ],
   "source": [
    "for url in urls:\n",
    "    frequency1[url]=frequency1.get(url,0)+1\n",
    "frequency1"
   ]
  },
  {
   "cell_type": "code",
   "execution_count": null,
   "metadata": {},
   "outputs": [],
   "source": []
  }
 ],
 "metadata": {
  "kernelspec": {
   "display_name": "Python 3",
   "language": "python",
   "name": "python3"
  },
  "language_info": {
   "codemirror_mode": {
    "name": "ipython",
    "version": 3
   },
   "file_extension": ".py",
   "mimetype": "text/x-python",
   "name": "python",
   "nbconvert_exporter": "python",
   "pygments_lexer": "ipython3",
   "version": "3.7.3"
  }
 },
 "nbformat": 4,
 "nbformat_minor": 2
}
