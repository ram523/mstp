{
 "cells": [
  {
   "cell_type": "code",
   "execution_count": 7,
   "metadata": {},
   "outputs": [
    {
     "name": "stdout",
     "output_type": "stream",
     "text": [
      "50\n",
      "2 3 5 7 11 13 17 19 23 29 31 37 41 43 47 53 59 61 67 71 73 79 83 89 97 101 103 107 109 113 127 131 137 139 149 151 157 163 167 173 179 181 191 193 197 199 211 223 227 229 "
     ]
    }
   ],
   "source": [
    "n=int(input())\n",
    "i=2\n",
    "l=1\n",
    "while l<=n:\n",
    "    flag=0\n",
    "    for k in range (2,i):\n",
    "        if(i%k==0):\n",
    "            flag=1\n",
    "            break\n",
    "    if(flag==1):\n",
    "        i=i+1\n",
    "    else:\n",
    "        print(i,end=' ')\n",
    "        i=i+1\n",
    "        l=l+1"
   ]
  },
  {
   "cell_type": "code",
   "execution_count": 9,
   "metadata": {},
   "outputs": [
    {
     "name": "stdout",
     "output_type": "stream",
     "text": [
      "hello\n"
     ]
    }
   ],
   "source": [
    "print(\"hello\")"
   ]
  },
  {
   "cell_type": "code",
   "execution_count": 37,
   "metadata": {},
   "outputs": [
    {
     "name": "stdout",
     "output_type": "stream",
     "text": [
      "6\n",
      "            * \n",
      "          * \n",
      "        * \n",
      "      * \n",
      "    * \n",
      "  * \n"
     ]
    }
   ],
   "source": [
    "n=int(input())\n",
    "for i in range(n,0,-1):\n",
    "    for j in range(0,i+1):\n",
    "        if(j<i):\n",
    "            print(' ',end=' ')\n",
    "        else:\n",
    "            print(\"*\",end=' ')\n",
    "    print(end='\\n')    "
   ]
  },
  {
   "cell_type": "code",
   "execution_count": 23,
   "metadata": {},
   "outputs": [
    {
     "ename": "SyntaxError",
     "evalue": "invalid syntax (<ipython-input-23-0328fbe067cd>, line 1)",
     "output_type": "error",
     "traceback": [
      "\u001b[1;36m  File \u001b[1;32m\"<ipython-input-23-0328fbe067cd>\"\u001b[1;36m, line \u001b[1;32m1\u001b[0m\n\u001b[1;33m    for in range(0,6):\u001b[0m\n\u001b[1;37m         ^\u001b[0m\n\u001b[1;31mSyntaxError\u001b[0m\u001b[1;31m:\u001b[0m invalid syntax\n"
     ]
    }
   ],
   "source": [
    "for in range(0,6):\n",
    "    for j in range()"
   ]
  },
  {
   "cell_type": "code",
   "execution_count": 24,
   "metadata": {},
   "outputs": [],
   "source": [
    "###square root of a given number without using library function"
   ]
  },
  {
   "cell_type": "code",
   "execution_count": 27,
   "metadata": {},
   "outputs": [
    {
     "name": "stdout",
     "output_type": "stream",
     "text": [
      "enter number5\n",
      "2.23606797749979\n"
     ]
    }
   ],
   "source": [
    "n=int(input(\"enter number\"))\n",
    "temp=n\n",
    "sqrt=n/2\n",
    "while(temp!=sqrt):\n",
    "    temp=sqrt;\n",
    "    sqrt=(n/temp+temp)/2\n",
    "print(sqrt)"
   ]
  },
  {
   "cell_type": "markdown",
   "metadata": {},
   "source": [
    "####square root of a number using function"
   ]
  },
  {
   "cell_type": "code",
   "execution_count": 31,
   "metadata": {},
   "outputs": [
    {
     "name": "stdout",
     "output_type": "stream",
     "text": [
      "enter nummber25\n",
      "5.0\n"
     ]
    }
   ],
   "source": [
    "import math\n",
    "n=int(input(\"enter nummber\"))\n",
    "k=math.sqrt(n)\n",
    "print(k)"
   ]
  },
  {
   "cell_type": "code",
   "execution_count": 33,
   "metadata": {},
   "outputs": [
    {
     "name": "stdout",
     "output_type": "stream",
     "text": [
      "enter number5\n",
      "2.23606797749979\n"
     ]
    }
   ],
   "source": [
    "n=int(input(\"enter number\"))\n",
    "sqrt=(n)**(1/2)\n",
    "print(sqrt)"
   ]
  },
  {
   "cell_type": "markdown",
   "metadata": {},
   "source": [
    "###### print count of numbers in sinlge line"
   ]
  },
  {
   "cell_type": "code",
   "execution_count": 6,
   "metadata": {},
   "outputs": [
    {
     "name": "stdout",
     "output_type": "stream",
     "text": [
      "1 2 3 4\n",
      "2.5\n"
     ]
    }
   ],
   "source": [
    "s=input()\n",
    "s=s.split()\n",
    "sum=0\n",
    "j=0\n",
    "for i in s:\n",
    "    sum=sum+int(i)\n",
    "    j=j+1\n",
    "print(sum/j)"
   ]
  },
  {
   "cell_type": "code",
   "execution_count": 5,
   "metadata": {},
   "outputs": [
    {
     "name": "stdout",
     "output_type": "stream",
     "text": [
      "enter lower value1\n",
      "enter higher value10\n",
      "enter which no do u want to divide3\n",
      "3\n",
      "6\n",
      "9\n",
      "the no of divisors is 3\n"
     ]
    }
   ],
   "source": [
    "l=int(input(\"enter lower value\"))\n",
    "r=int(input(\"enter higher value\"))\n",
    "k=int(input(\"enter which no do u want to divide\"))\n",
    "count=0\n",
    "while l<=r:\n",
    "    if l%k==0:\n",
    "        count=count+1\n",
    "        print(l)\n",
    "        l=l+1\n",
    "    else:\n",
    "        l=l+1\n",
    "print(\"the no of divisors is\",count)"
   ]
  },
  {
   "cell_type": "markdown",
   "metadata": {},
   "source": [
    "###isbn no"
   ]
  },
  {
   "cell_type": "code",
   "execution_count": 19,
   "metadata": {},
   "outputs": [
    {
     "name": "stdout",
     "output_type": "stream",
     "text": [
      "1234567890\n",
      "285\n",
      "not a valid isbn\n"
     ]
    }
   ],
   "source": [
    "n=int(input())\n",
    "j=10\n",
    "sum=0\n",
    "while(n>0):\n",
    "    rem=n%10\n",
    "    sum=sum+rem*j\n",
    "    j=j-1\n",
    "    n=n//10\n",
    "print(sum)\n",
    "if(sum%11==0):\n",
    "    print(\"valid isbn\")\n",
    "else:\n",
    "    print(\"not a valid isbn\")"
   ]
  },
  {
   "cell_type": "markdown",
   "metadata": {},
   "source": [
    "####Palindrome of a string"
   ]
  },
  {
   "cell_type": "code",
   "execution_count": 2,
   "metadata": {},
   "outputs": [
    {
     "name": "stdout",
     "output_type": "stream",
     "text": [
      "enter stringmadam\n",
      "given string is palidrome\n"
     ]
    }
   ],
   "source": [
    "s=input(\"enter string\")\n",
    "s1=s[::-1]\n",
    "if(s1==s):\n",
    "    print(\"given string is palidrome\")\n",
    "else:\n",
    "    print(\"not palindrome\")"
   ]
  },
  {
   "cell_type": "markdown",
   "metadata": {},
   "source": [
    "###toggle string"
   ]
  },
  {
   "cell_type": "code",
   "execution_count": 3,
   "metadata": {},
   "outputs": [
    {
     "name": "stdout",
     "output_type": "stream",
     "text": [
      "enter stringSWaran Ansgara\n",
      "swARAN aNSGARA\n"
     ]
    }
   ],
   "source": [
    "s=input(\"enter string\")\n",
    "print(s.swapcase())"
   ]
  },
  {
   "cell_type": "code",
   "execution_count": null,
   "metadata": {},
   "outputs": [],
   "source": [
    "s=input()\n",
    "s1=input()\n",
    "if len(s)==len(s1):\n",
    "    if s==s1:\n",
    "        print(\"both are identical\")\n",
    "    else:\n",
    "        print(\"not identical\")\n",
    "else:\n",
    "    print(\"not identical\")\n",
    "    "
   ]
  },
  {
   "cell_type": "code",
   "execution_count": null,
   "metadata": {},
   "outputs": [],
   "source": [
    "s=input()\n",
    "for i in s:\n",
    "    b=ord(i)-ord('a')+1\n",
    "    print(i)\n",
    "print(b)"
   ]
  },
  {
   "cell_type": "markdown",
   "metadata": {},
   "source": [
    "#### emazie"
   ]
  },
  {
   "cell_type": "code",
   "execution_count": 18,
   "metadata": {},
   "outputs": [
    {
     "name": "stdout",
     "output_type": "stream",
     "text": [
      "lrd\n",
      "-1 -1\n"
     ]
    }
   ],
   "source": [
    "s=input()\n",
    "L=0\n",
    "R=0\n",
    "D=0\n",
    "U=0\n",
    "X=0\n",
    "Y=0\n",
    "for i in s:\n",
    "    if i=='l':\n",
    "        L=(L-1)\n",
    "        X=L-R\n",
    "        Y=U\n",
    "    if i=='r':\n",
    "        R=R+1\n",
    "        X=R-(-L)\n",
    "        Y=D\n",
    "    if i=='d':\n",
    "        D=D-1\n",
    "        Y=D-U\n",
    "        X=L\n",
    "    if i=='u':\n",
    "        U=U+1\n",
    "        Y=U-D\n",
    "        X=R\n",
    "print(X,Y)"
   ]
  },
  {
   "cell_type": "code",
   "execution_count": null,
   "metadata": {},
   "outputs": [],
   "source": []
  }
 ],
 "metadata": {
  "kernelspec": {
   "display_name": "Python 3",
   "language": "python",
   "name": "python3"
  },
  "language_info": {
   "codemirror_mode": {
    "name": "ipython",
    "version": 3
   },
   "file_extension": ".py",
   "mimetype": "text/x-python",
   "name": "python",
   "nbconvert_exporter": "python",
   "pygments_lexer": "ipython3",
   "version": "3.7.3"
  }
 },
 "nbformat": 4,
 "nbformat_minor": 2
}
