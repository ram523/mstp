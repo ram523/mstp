{
 "cells": [
  {
   "cell_type": "markdown",
   "metadata": {},
   "source": [
    "## data ordering in a file by marks"
   ]
  },
  {
   "cell_type": "code",
   "execution_count": null,
   "metadata": {},
   "outputs": [],
   "source": [
    "fh_i = open('Book.txt','r')\n",
    "fh_o = open('out.txt','w')\n",
    "count = 0\n",
    "rows = []\n",
    "for line in fh_i:\n",
    "    count = count+1\n",
    "    if count==1:\n",
    "        fh_o.write(line.strip() +\"\\ttotal\\n\")\n",
    "    else:\n",
    "        marks_list = line.strip().split()[2:]\n",
    "        newmarks = []\n",
    "        for each in marks_list:\n",
    "            newmarks.append(int(each))\n",
    "        total = sum(newmarks)\n",
    "        row = line.strip()+\"\\t\\t\"+str(total)+\"\\n\"\n",
    "        rows.append([total,row])\n",
    "rows.sort(reverse=True)\n",
    "for row in rows:\n",
    "    fh_o.write(row[1])\n",
    "fh_i.close()\n",
    "fh_o.close()"
   ]
  },
  {
   "cell_type": "code",
   "execution_count": null,
   "metadata": {},
   "outputs": [],
   "source": []
  },
  {
   "cell_type": "markdown",
   "metadata": {},
   "source": [
    "## LIST COMPREHENSION"
   ]
  },
  {
   "cell_type": "code",
   "execution_count": null,
   "metadata": {},
   "outputs": [],
   "source": [
    "numbers = []\n",
    "for i in range (1,101):\n",
    "    if i%3==0:\n",
    "        numbers.append(i)\n",
    "print(numbers)"
   ]
  },
  {
   "cell_type": "markdown",
   "metadata": {},
   "source": [
    "[num for i in range(1,11):if i%3==0]"
   ]
  },
  {
   "cell_type": "code",
   "execution_count": null,
   "metadata": {},
   "outputs": [],
   "source": [
    "print([i for i in range(1,11)if i%3==0])"
   ]
  },
  {
   "cell_type": "code",
   "execution_count": null,
   "metadata": {},
   "outputs": [],
   "source": [
    "n = [i for i in range(1,11) if i%2==0]\n",
    "print(n)"
   ]
  },
  {
   "cell_type": "code",
   "execution_count": null,
   "metadata": {},
   "outputs": [],
   "source": []
  },
  {
   "cell_type": "code",
   "execution_count": null,
   "metadata": {},
   "outputs": [],
   "source": [
    "students = [['sai',70],['ram',30],['lakshmi',60]]\n",
    "l=[each for each in students if each[1]>=60]\n",
    "print(l)"
   ]
  },
  {
   "cell_type": "code",
   "execution_count": null,
   "metadata": {},
   "outputs": [],
   "source": [
    "students = [['sai',70,1],['ram',30,2],['lakshmi',60,3]]\n",
    "[each for each in students if (each[1] >= 60 and each[2]<=1)]"
   ]
  },
  {
   "cell_type": "code",
   "execution_count": null,
   "metadata": {},
   "outputs": [],
   "source": [
    "for i in range(1,6):\n",
    "    for j in range(1,6):\n",
    "        for k in range(1,6):\n",
    "            if (i**2+j**2)==k**2:\n",
    "                print(i,j,k)"
   ]
  },
  {
   "cell_type": "code",
   "execution_count": null,
   "metadata": {},
   "outputs": [],
   "source": [
    "[(i,j,k) for i in range(1,11) for j in range(1,11) for k in range(1,11) if (i**2+j**2)==k**2]"
   ]
  },
  {
   "cell_type": "code",
   "execution_count": null,
   "metadata": {},
   "outputs": [],
   "source": [
    "[(i,j,k) for i in range(1,11) for j in range(i,11) for k in range(j,11) if (i**2+j**2)==k**2]"
   ]
  },
  {
   "cell_type": "code",
   "execution_count": null,
   "metadata": {},
   "outputs": [],
   "source": [
    "print([str(i)+str(j) for i in range(0,10) for j in range(0,10)])"
   ]
  },
  {
   "cell_type": "code",
   "execution_count": null,
   "metadata": {},
   "outputs": [],
   "source": [
    "{i:i**2 for i in range(1,10)}"
   ]
  },
  {
   "cell_type": "code",
   "execution_count": null,
   "metadata": {},
   "outputs": [],
   "source": [
    "squares = {}\n",
    "for i in range(1,11):\n",
    "    squares[i] = i*i\n",
    "print(squares)"
   ]
  },
  {
   "cell_type": "code",
   "execution_count": null,
   "metadata": {},
   "outputs": [],
   "source": [
    "{each:each*each if each%2==0 else each**3 for each in range(1,10)}"
   ]
  },
  {
   "cell_type": "markdown",
   "metadata": {},
   "source": []
  },
  {
   "cell_type": "code",
   "execution_count": 3,
   "metadata": {},
   "outputs": [
    {
     "name": "stdout",
     "output_type": "stream",
     "text": [
      "{'sai': 'A', 'ramu': 'B', 'lakshmi': 'c'}\n"
     ]
    }
   ],
   "source": [
    "name = ['sai','ramu','lakshmi']\n",
    "grades = ['A','B','c']\n",
    "students ={}\n",
    "for i in range(len(name)):\n",
    "    names=name[i]\n",
    "    grade=grades[i]\n",
    "    students[names]=grade\n",
    "print(students)\n",
    "    "
   ]
  },
  {
   "cell_type": "code",
   "execution_count": null,
   "metadata": {},
   "outputs": [],
   "source": []
  },
  {
   "cell_type": "code",
   "execution_count": 22,
   "metadata": {},
   "outputs": [
    {
     "name": "stdout",
     "output_type": "stream",
     "text": [
      "[['sai', 30, 40], ['ram', 50, 60], ['lakshmi', 100, 30]]\n"
     ]
    }
   ],
   "source": [
    "students = [['sai',30,40],['lakshmi',100,30],['ram',50,60]]\n",
    "rows = []\n",
    "l1 = []\n",
    "for student in students:\n",
    "    rows.append([student[1],student])\n",
    "rows.sort()\n",
    "for i in rows:\n",
    "    l1.append(i[1])\n",
    "print(l1)\n",
    "    "
   ]
  },
  {
   "cell_type": "code",
   "execution_count": 21,
   "metadata": {},
   "outputs": [
    {
     "name": "stdout",
     "output_type": "stream",
     "text": [
      "[['sai', 30, 40], ['ram', 50, 60], ['lakshmi', 100, 30]]\n"
     ]
    }
   ],
   "source": [
    "students = [['sai',30,40],['lakshmi',100,30],['ram',50,60]]\n",
    "l =[]\n",
    "l1 = []\n",
    "for student in students:\n",
    "    l.append(student[1])\n",
    "l.sort()\n",
    "for t in l:\n",
    "    for e in students:\n",
    "        if t == e[1]:\n",
    "            l1.append(e)\n",
    "print(l1)"
   ]
  },
  {
   "cell_type": "code",
   "execution_count": null,
   "metadata": {},
   "outputs": [],
   "source": []
  },
  {
   "cell_type": "code",
   "execution_count": 24,
   "metadata": {},
   "outputs": [
    {
     "name": "stdout",
     "output_type": "stream",
     "text": [
      "[['sai', 30, 40], ['ram', 50, 60], ['lakshmi', 100, 30]]\n"
     ]
    }
   ],
   "source": [
    "students = [['sai',30,40],['lakshmi',100,30],['ram',50,60]]\n",
    "remove = 1\n",
    "for student in students:\n",
    "    # 'sai',30,40\n",
    "    student.insert(0,student.pop(remove))\n",
    "    # 30,'sai',40\n",
    "students.sort()\n",
    "for i in students:\n",
    "    #30,'sai',40\n",
    "    i.insert(remove,i.pop(0))\n",
    "    #'sai',30,40\n",
    "print(students)"
   ]
  },
  {
   "cell_type": "markdown",
   "metadata": {},
   "source": [
    "###  lambda     function\n",
    "     "
   ]
  },
  {
   "cell_type": "code",
   "execution_count": 25,
   "metadata": {},
   "outputs": [
    {
     "data": {
      "text/plain": [
       "9"
      ]
     },
     "execution_count": 25,
     "metadata": {},
     "output_type": "execute_result"
    }
   ],
   "source": [
    "sq = lambda x:x*x\n",
    "sq(3)"
   ]
  },
  {
   "cell_type": "code",
   "execution_count": 26,
   "metadata": {},
   "outputs": [
    {
     "name": "stdout",
     "output_type": "stream",
     "text": [
      "[['sai', 30, 40], ['ram', 50, 60], ['lakshmi', 100, 30]]\n"
     ]
    }
   ],
   "source": [
    "students = [['sai',30,40],['lakshmi',100,30],['ram',50,60]]\n",
    "students.sort(key= lambda x:x[1])\n",
    "print(students)"
   ]
  },
  {
   "cell_type": "code",
   "execution_count": null,
   "metadata": {},
   "outputs": [],
   "source": [
    "numbers = ['10','30','40']"
   ]
  },
  {
   "cell_type": "code",
   "execution_count": null,
   "metadata": {},
   "outputs": [],
   "source": []
  },
  {
   "cell_type": "markdown",
   "metadata": {},
   "source": [
    "## map(function,collection)\n",
    "    returns the adderess of the  stored values location"
   ]
  },
  {
   "cell_type": "code",
   "execution_count": 27,
   "metadata": {},
   "outputs": [
    {
     "name": "stdout",
     "output_type": "stream",
     "text": [
      "<map object at 0x0000025193E8F898>\n",
      "[10, 20, 30]\n"
     ]
    }
   ],
   "source": [
    "numbers = ['10','20','30']\n",
    "s = map(int,numbers)\n",
    "print(s)\n",
    "print(list(s))"
   ]
  },
  {
   "cell_type": "code",
   "execution_count": 31,
   "metadata": {},
   "outputs": [
    {
     "data": {
      "text/plain": [
       "[40, 50, 60]"
      ]
     },
     "execution_count": 31,
     "metadata": {},
     "output_type": "execute_result"
    }
   ],
   "source": [
    "numbers = ['10','20','30']\n",
    "list(map(lambda x:int(x)+30,numbers))"
   ]
  },
  {
   "cell_type": "code",
   "execution_count": 38,
   "metadata": {},
   "outputs": [
    {
     "data": {
      "text/plain": [
       "[10, 20, 30, 40]"
      ]
     },
     "execution_count": 38,
     "metadata": {},
     "output_type": "execute_result"
    }
   ],
   "source": [
    "marks =[10,20,30,40]\n",
    "s = filter(None,marks)\n",
    "list(s)"
   ]
  },
  {
   "cell_type": "code",
   "execution_count": 39,
   "metadata": {},
   "outputs": [],
   "source": [
    "students = [['sai',10],['sunny',30],['ramu',50]]"
   ]
  },
  {
   "cell_type": "code",
   "execution_count": null,
   "metadata": {},
   "outputs": [],
   "source": []
  }
 ],
 "metadata": {
  "kernelspec": {
   "display_name": "Python 3",
   "language": "python",
   "name": "python3"
  },
  "language_info": {
   "codemirror_mode": {
    "name": "ipython",
    "version": 3
   },
   "file_extension": ".py",
   "mimetype": "text/x-python",
   "name": "python",
   "nbconvert_exporter": "python",
   "pygments_lexer": "ipython3",
   "version": "3.7.3"
  }
 },
 "nbformat": 4,
 "nbformat_minor": 2
}
