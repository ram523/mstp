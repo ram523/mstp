{
 "cells": [
  {
   "cell_type": "markdown",
   "metadata": {},
   "source": [
    "# 30-08-2019"
   ]
  },
  {
   "cell_type": "markdown",
   "metadata": {},
   "source": [
    "### 1 . function to print all numbers divisible by 6 and not a factor of 100 in a given range(lb,ub) inclusive."
   ]
  },
  {
   "cell_type": "code",
   "execution_count": 4,
   "metadata": {},
   "outputs": [
    {
     "name": "stdout",
     "output_type": "stream",
     "text": [
      "enter lower boundry20\n",
      "enter upper boundry200\n",
      "24 30 36 42 48 54 60 66 72 78 84 90 96 102 108 114 120 126 132 138 144 150 156 162 168 174 180 186 192 198 "
     ]
    }
   ],
   "source": [
    "def div6not100(l,u):\n",
    "    for i in range(l,u+1):\n",
    "        if(i%6==0 and i%100!=0):\n",
    "            print(i,end=\" \")\n",
    "\n",
    "lb=int(input('enter lower boundry'))\n",
    "ub=int(input('enter upper boundry'))\n",
    "div6not100(lb,ub)"
   ]
  },
  {
   "cell_type": "markdown",
   "metadata": {},
   "source": [
    "### 2 . find the average of cubes of all the even numbers in a given range(lb,ub) inclusive."
   ]
  },
  {
   "cell_type": "code",
   "execution_count": 5,
   "metadata": {},
   "outputs": [
    {
     "name": "stdout",
     "output_type": "stream",
     "text": [
      "enter lower boundry1\n",
      "enter upper boundry100\n",
      "260100.0\n"
     ]
    }
   ],
   "source": [
    "def avgcubeven(l,u):\n",
    "    a=0\n",
    "    c=0\n",
    "    for i in range(l,u+1):\n",
    "        if i%2==0:\n",
    "            a+=i**3\n",
    "            c+=1\n",
    "    return a/c\n",
    "            \n",
    "lb=int(input('enter lower boundry'))\n",
    "ub=int(input('enter upper boundry'))\n",
    "print(avgcubeven(lb,ub))"
   ]
  },
  {
   "cell_type": "markdown",
   "metadata": {},
   "source": [
    "### 3 . function to generate a list of factors for a given number"
   ]
  },
  {
   "cell_type": "code",
   "execution_count": 9,
   "metadata": {},
   "outputs": [
    {
     "name": "stdout",
     "output_type": "stream",
     "text": [
      "enter n value48\n",
      "1\n",
      "2\n",
      "3\n",
      "4\n",
      "6\n",
      "8\n",
      "12\n",
      "16\n",
      "24\n",
      "48\n"
     ]
    }
   ],
   "source": [
    "def factor(n):\n",
    "    for i in range(1,n+1):\n",
    "        if(n%i==0):\n",
    "            print(i)\n",
    "n=int(input('enter n value'))\n",
    "factor(n)"
   ]
  },
  {
   "cell_type": "markdown",
   "metadata": {},
   "source": [
    "### 4 . function to calculate the factorial of a given number"
   ]
  },
  {
   "cell_type": "code",
   "execution_count": 1,
   "metadata": {},
   "outputs": [
    {
     "name": "stdout",
     "output_type": "stream",
     "text": [
      "enter a number5\n",
      "the factiorial of  5 is   120\n"
     ]
    }
   ],
   "source": [
    "def factorial(n):\n",
    "    i=1\n",
    "    x=1\n",
    "    while i<=n:\n",
    "        x*=i\n",
    "        i+=1\n",
    "    return x\n",
    "n=int(input('enter a number'))\n",
    "\n",
    "print('the factiorial of ',n,\"is  \",factorial(n))"
   ]
  },
  {
   "cell_type": "markdown",
   "metadata": {},
   "source": [
    "### 5 . function to check if the given number is prime or not "
   ]
  },
  {
   "cell_type": "code",
   "execution_count": 7,
   "metadata": {},
   "outputs": [
    {
     "name": "stdout",
     "output_type": "stream",
     "text": [
      "enter a number23\n",
      "23 is a prime\n"
     ]
    }
   ],
   "source": [
    "def prime(i):\n",
    "    flag=0\n",
    "    for j in range(2,int(i**(1/2))+1):\n",
    "        if(i%j==0):\n",
    "            flag+=1\n",
    "    if(flag==0):\n",
    "        print(i,\"is a prime\")  \n",
    "    else:\n",
    "        print(i,\" is not a prime\")\n",
    "\n",
    "n=int(input(\"enter a number\"))\n",
    "prime(n)\n"
   ]
  },
  {
   "cell_type": "markdown",
   "metadata": {},
   "source": [
    "### 6 . function to calculate the average of first N prime numbers"
   ]
  },
  {
   "cell_type": "code",
   "execution_count": 12,
   "metadata": {},
   "outputs": [
    {
     "name": "stdout",
     "output_type": "stream",
     "text": [
      "enter a number4\n",
      "4.25\n"
     ]
    }
   ],
   "source": [
    "def avgfirstnprime(n):\n",
    "    i=1\n",
    "    x=2\n",
    "    s=0\n",
    "    flag=0\n",
    "    while i<=n:\n",
    "        for j in range(2,x):\n",
    "            if(x%j==0):\n",
    "                flag+=1\n",
    "        if(flag==0):\n",
    "            i+=1\n",
    "            s+=x\n",
    "            x+=1\n",
    "        else:\n",
    "            x=x+1\n",
    "            flag=0\n",
    "    return s/n\n",
    "n=int(input('enter a number'))\n",
    "print(avgfirstnprime(n))"
   ]
  },
  {
   "cell_type": "markdown",
   "metadata": {},
   "source": [
    "### 7 .  function to generate a ll perfect numbers in a given range"
   ]
  },
  {
   "cell_type": "code",
   "execution_count": 7,
   "metadata": {},
   "outputs": [
    {
     "name": "stdout",
     "output_type": "stream",
     "text": [
      "enter lower boundry1\n",
      "enter upper boundry100\n",
      "6\n",
      "28\n"
     ]
    }
   ],
   "source": [
    "def perfectnuminreange(l,u):\n",
    "    s=0\n",
    "    for i in range(l,u+1):\n",
    "        for j in range(1,i):\n",
    "            if(i%j==0):\n",
    "                s+=j\n",
    "        if(s==i):\n",
    "            print(i)\n",
    "        s=0\n",
    "lb=int(input('enter lower boundry'))\n",
    "ub=int(input('enter upper boundry'))\n",
    "perfectnuminreange(lb,ub)"
   ]
  },
  {
   "cell_type": "code",
   "execution_count": 10,
   "metadata": {},
   "outputs": [
    {
     "data": {
      "text/plain": [
       "6.928203230275509"
      ]
     },
     "execution_count": 10,
     "metadata": {},
     "output_type": "execute_result"
    }
   ],
   "source": [
    "48**(1/2)"
   ]
  },
  {
   "cell_type": "code",
   "execution_count": null,
   "metadata": {},
   "outputs": [],
   "source": []
  }
 ],
 "metadata": {
  "kernelspec": {
   "display_name": "Python 3",
   "language": "python",
   "name": "python3"
  }
 },
 "nbformat": 4,
 "nbformat_minor": 2
}
