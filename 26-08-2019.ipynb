{
 "cells": [
  {
   "cell_type": "markdown",
   "metadata": {},
   "source": [
    "# python\n",
    "## python\n",
    "\n",
    "*litalic*\n",
    "\n",
    "**bold**\n",
    "\n",
    "***italic bold***\n",
    "\n",
    "* hello\n",
    "    * hi\n",
    "        * bye\n",
    "            * ok\n",
    "                * hello"
   ]
  },
  {
   "cell_type": "markdown",
   "metadata": {},
   "source": [
    "<img src=\"level2.png\" style=\"width:200px;height=200px\">"
   ]
  },
  {
   "cell_type": "code",
   "execution_count": 4,
   "metadata": {},
   "outputs": [
    {
     "name": "stdout",
     "output_type": "stream",
     "text": [
      "good "
     ]
    }
   ],
   "source": [
    "print(\"good\",end=\" \")"
   ]
  },
  {
   "cell_type": "code",
   "execution_count": 5,
   "metadata": {},
   "outputs": [
    {
     "name": "stdout",
     "output_type": "stream",
     "text": [
      "good morning\n"
     ]
    }
   ],
   "source": [
    "print(\"good\",end=\" \")\n",
    "print(\"morning\")"
   ]
  },
  {
   "cell_type": "code",
   "execution_count": 12,
   "metadata": {},
   "outputs": [],
   "source": [
    "a=123\n",
    "b=1.1\n",
    "c='c'\n",
    "d=\"abcd\""
   ]
  },
  {
   "cell_type": "code",
   "execution_count": 13,
   "metadata": {
    "scrolled": true
   },
   "outputs": [
    {
     "data": {
      "text/plain": [
       "int"
      ]
     },
     "execution_count": 13,
     "metadata": {},
     "output_type": "execute_result"
    }
   ],
   "source": [
    "type(a)"
   ]
  },
  {
   "cell_type": "code",
   "execution_count": 14,
   "metadata": {},
   "outputs": [
    {
     "data": {
      "text/plain": [
       "float"
      ]
     },
     "execution_count": 14,
     "metadata": {},
     "output_type": "execute_result"
    }
   ],
   "source": [
    "type(b)"
   ]
  },
  {
   "cell_type": "code",
   "execution_count": 15,
   "metadata": {},
   "outputs": [
    {
     "data": {
      "text/plain": [
       "str"
      ]
     },
     "execution_count": 15,
     "metadata": {},
     "output_type": "execute_result"
    }
   ],
   "source": [
    "type(c)"
   ]
  },
  {
   "cell_type": "code",
   "execution_count": 16,
   "metadata": {},
   "outputs": [
    {
     "data": {
      "text/plain": [
       "str"
      ]
     },
     "execution_count": 16,
     "metadata": {},
     "output_type": "execute_result"
    }
   ],
   "source": [
    "type(d)"
   ]
  },
  {
   "cell_type": "code",
   "execution_count": 19,
   "metadata": {},
   "outputs": [
    {
     "name": "stdout",
     "output_type": "stream",
     "text": [
      "enter a value1\n",
      "enter b value10\n",
      "1\n",
      "2\n",
      "3\n",
      "4\n",
      "5\n",
      "6\n",
      "7\n",
      "8\n",
      "9\n",
      "10\n"
     ]
    }
   ],
   "source": [
    "a=int(input(\"enter a value\"))\n",
    "b=int(input(\"enter b value\"))\n",
    "for i in range(a,b+1):\n",
    "    print(i)"
   ]
  },
  {
   "cell_type": "markdown",
   "metadata": {},
   "source": [
    "# conditional statements"
   ]
  },
  {
   "cell_type": "markdown",
   "metadata": {},
   "source": [
    "## if statement & else statement"
   ]
  },
  {
   "cell_type": "code",
   "execution_count": 22,
   "metadata": {},
   "outputs": [
    {
     "name": "stdout",
     "output_type": "stream",
     "text": [
      "enter a number-5\n",
      "negative number\n"
     ]
    }
   ],
   "source": [
    "num=int (input(\"enter a number\"))\n",
    "if num>=0:\n",
    "    print(\" positive number\")\n",
    "else:\n",
    "    print(\"negative number\")"
   ]
  },
  {
   "cell_type": "code",
   "execution_count": 23,
   "metadata": {},
   "outputs": [
    {
     "name": "stdout",
     "output_type": "stream",
     "text": [
      "enter a number0\n",
      "zero\n"
     ]
    }
   ],
   "source": [
    "num=int (input(\"enter a number\"))\n",
    "if num>=0:\n",
    "    if(num==0):\n",
    "        print('zero')\n",
    "    else:\n",
    "        print(\" positive number\")\n",
    "else:\n",
    "    print(\"negative number\")"
   ]
  },
  {
   "cell_type": "code",
   "execution_count": 24,
   "metadata": {},
   "outputs": [
    {
     "name": "stdout",
     "output_type": "stream",
     "text": [
      "****** finding a number between and positive or negative******\n",
      "\n",
      "enter a number4\n"
     ]
    }
   ],
   "source": [
    "print('****** finding a number between-100 and 100 and positive or negative******')\n",
    "print('')\n",
    "num=int (input('enter a number'))\n",
    "if num"
   ]
  },
  {
   "cell_type": "markdown",
   "metadata": {},
   "source": [
    "## leap year or not program"
   ]
  },
  {
   "cell_type": "code",
   "execution_count": 31,
   "metadata": {},
   "outputs": [
    {
     "name": "stdout",
     "output_type": "stream",
     "text": [
      "enter a year2000\n",
      "2000  is a leap year\n"
     ]
    }
   ],
   "source": [
    "num=int(input('enter a year'))\n",
    "if (num%4==0 and num%100!=0) or num%400==0:\n",
    "    print(num,' is a leap year')\n",
    "else:\n",
    "    print(num,' is not a leap year')"
   ]
  },
  {
   "cell_type": "markdown",
   "metadata": {},
   "source": [
    "## given number is factor of 1000 or not"
   ]
  },
  {
   "cell_type": "code",
   "execution_count": 35,
   "metadata": {},
   "outputs": [
    {
     "name": "stdout",
     "output_type": "stream",
     "text": [
      "enter a number75\n",
      "no\n"
     ]
    }
   ],
   "source": [
    "num=int (input('enter a number'))\n",
    "if 1000%num==0:\n",
    "    print('yes')\n",
    "else:\n",
    "    print('no')"
   ]
  },
  {
   "cell_type": "markdown",
   "metadata": {},
   "source": [
    "## find the length of a string"
   ]
  },
  {
   "cell_type": "code",
   "execution_count": 36,
   "metadata": {},
   "outputs": [
    {
     "name": "stdout",
     "output_type": "stream",
     "text": [
      "enter a stringhello hi bye bye\n",
      "the length of the given string  hello hi bye bye  is  16\n"
     ]
    }
   ],
   "source": [
    "str=input('enter a string')\n",
    "print('the length of the given string ',str,' is ',len(str))"
   ]
  },
  {
   "cell_type": "markdown",
   "metadata": {},
   "source": [
    "## find the length of a digit"
   ]
  },
  {
   "cell_type": "code",
   "execution_count": 1,
   "metadata": {},
   "outputs": [
    {
     "name": "stdout",
     "output_type": "stream",
     "text": [
      "6\n",
      "stop\n",
      "6\n",
      "stop\n"
     ]
    }
   ],
   "source": [
    "num=166234\n",
    "m=str(num)\n",
    "print(len(m))\n",
    "print('stop')"
   ]
  },
  {
   "cell_type": "markdown",
   "metadata": {},
   "source": [
    "## find the greatest of 200,536,145,221"
   ]
  },
  {
   "cell_type": "code",
   "execution_count": 2,
   "metadata": {},
   "outputs": [
    {
     "name": "stdout",
     "output_type": "stream",
     "text": [
      "537  is greater\n",
      "537  is greater\n"
     ]
    }
   ],
   "source": [
    "a,b,c,d=200,537,145,221\n",
    "if a>b and a>c and a>d:\n",
    "    print(a,' is greater')\n",
    "elif a<b and b>c and b>d:\n",
    "    print(b,' is greater')\n",
    "elif c>b and a<c and c>d:\n",
    "    print(c,' is greater')\n",
    "elif d>b and d>c and a<d:\n",
    "    print(d,' is greater')"
   ]
  },
  {
   "cell_type": "markdown",
   "metadata": {},
   "source": [
    "* ## grade the students\n",
    "    *  marks>=75  distintion\n",
    "    * 50-70 2nd class\n",
    "    * 35-50 -pass\n",
    "    * below 35 fail"
   ]
  },
  {
   "cell_type": "code",
   "execution_count": 14,
   "metadata": {},
   "outputs": [
    {
     "name": "stdout",
     "output_type": "stream",
     "text": [
      "enter student marks2\n",
      "student fail\n",
      "student fail\n"
     ]
    }
   ],
   "source": [
    "m=int(input('enter student marks'))\n",
    "if m>=75:\n",
    "    print('student passes with first class')\n",
    "elif(51<=m<=74):\n",
    "    print('student passes with second class')\n",
    "elif( m<50 and m>=35):\n",
    "    print('student pass')\n",
    "else:\n",
    "    print('student fail')"
   ]
  },
  {
   "cell_type": "code",
   "execution_count": 23,
   "metadata": {},
   "outputs": [
    {
     "name": "stdout",
     "output_type": "stream",
     "text": [
      "a10\n",
      "b20\n",
      "c30\n",
      "60\n",
      "60\n"
     ]
    }
   ],
   "source": [
    "a=int(input('a'))\n",
    "b=int(input('b'))\n",
    "c=int(input('c'))\n",
    "if(a==b==c):\n",
    "    print(a)\n",
    "elif(a==b!=c):\n",
    "    print(c)\n",
    "elif(a!=b==c):\n",
    "    print(a)\n",
    "elif(b!=a==c):\n",
    "    print(b)\n",
    "elif(b!=a!=c):\n",
    "    print(b+a+c)    \n",
    "    "
   ]
  },
  {
   "cell_type": "code",
   "execution_count": 25,
   "metadata": {},
   "outputs": [
    {
     "name": "stdout",
     "output_type": "stream",
     "text": [
      "10\n",
      "10\n",
      "10\n",
      "[10, 10, 10]\n",
      "[10, 10, 10]\n"
     ]
    }
   ],
   "source": [
    "a=[]\n",
    "for i in range(3):\n",
    "    b=int(input(''))\n",
    "    a.append(b)\n",
    "for i in range(3):\n",
    "    \n",
    "print(a)"
   ]
  },
  {
   "cell_type": "code",
   "execution_count": 27,
   "metadata": {},
   "outputs": [
    {
     "name": "stdout",
     "output_type": "stream",
     "text": [
      "[1, 1, 1]\n",
      "[1, 1, 1]\n"
     ]
    }
   ],
   "source": [
    "print(a)"
   ]
  },
  {
   "cell_type": "code",
   "execution_count": 8,
   "metadata": {},
   "outputs": [
    {
     "name": "stdout",
     "output_type": "stream",
     "text": [
      "0\n",
      "1\n",
      "2\n",
      "3\n",
      "4\n",
      "0\n",
      "1\n",
      "2\n",
      "3\n",
      "4\n"
     ]
    }
   ],
   "source": [
    "for i in range(5):\n",
    "    print(i)"
   ]
  },
  {
   "cell_type": "code",
   "execution_count": 9,
   "metadata": {},
   "outputs": [
    {
     "name": "stdout",
     "output_type": "stream",
     "text": [
      "1\n",
      "2\n",
      "3\n",
      "4\n",
      "1\n",
      "2\n",
      "3\n",
      "4\n"
     ]
    }
   ],
   "source": [
    "for i in range(1,5):\n",
    "    print(i)"
   ]
  },
  {
   "cell_type": "code",
   "execution_count": 10,
   "metadata": {},
   "outputs": [
    {
     "name": "stdout",
     "output_type": "stream",
     "text": [
      "0\n",
      "2\n",
      "4\n",
      "6\n",
      "8\n",
      "0\n",
      "2\n",
      "4\n",
      "6\n",
      "8\n"
     ]
    }
   ],
   "source": [
    "for i in range(0,10,2):\n",
    "    print(i)"
   ]
  },
  {
   "cell_type": "code",
   "execution_count": 11,
   "metadata": {},
   "outputs": [
    {
     "name": "stdout",
     "output_type": "stream",
     "text": [
      "1\n",
      "3\n",
      "5\n",
      "7\n",
      "9\n",
      "1\n",
      "3\n",
      "5\n",
      "7\n",
      "9\n"
     ]
    }
   ],
   "source": [
    "for i in range(1,10,2):\n",
    "    print(i)"
   ]
  },
  {
   "cell_type": "code",
   "execution_count": 12,
   "metadata": {},
   "outputs": [
    {
     "name": "stdout",
     "output_type": "stream",
     "text": [
      "10\n",
      "9\n",
      "8\n",
      "7\n",
      "6\n",
      "5\n",
      "4\n",
      "3\n",
      "2\n",
      "10\n",
      "9\n",
      "8\n",
      "7\n",
      "6\n",
      "5\n",
      "4\n",
      "3\n",
      "2\n"
     ]
    }
   ],
   "source": [
    "for i in range(10,1,-1):\n",
    "    print(i)"
   ]
  },
  {
   "cell_type": "code",
   "execution_count": 13,
   "metadata": {},
   "outputs": [
    {
     "name": "stdout",
     "output_type": "stream",
     "text": [
      "1\n",
      "2\n",
      "3\n",
      "4\n",
      "5\n",
      "6\n",
      "7\n",
      "8\n",
      "9\n",
      "1\n",
      "2\n",
      "3\n",
      "4\n",
      "5\n",
      "6\n",
      "7\n",
      "8\n",
      "9\n"
     ]
    }
   ],
   "source": [
    "for i in range(1,10,1):\n",
    "    print(i)"
   ]
  },
  {
   "cell_type": "code",
   "execution_count": 15,
   "metadata": {},
   "outputs": [
    {
     "ename": "TypeError",
     "evalue": "'int' object is not iterable",
     "output_type": "error",
     "traceback": [
      "\u001b[1;31m---------------------------------------------------------------------------\u001b[0m",
      "\u001b[1;31mTypeError\u001b[0m                                 Traceback (most recent call last)",
      "\u001b[1;32m<ipython-input-15-3ffb2b791ef4>\u001b[0m in \u001b[0;36m<module>\u001b[1;34m\u001b[0m\n\u001b[0;32m      1\u001b[0m \u001b[0ma\u001b[0m\u001b[1;33m=\u001b[0m\u001b[1;36m1\u001b[0m\u001b[1;33m\u001b[0m\u001b[1;33m\u001b[0m\u001b[0m\n\u001b[1;32m----> 2\u001b[1;33m \u001b[1;32mfor\u001b[0m \u001b[0mi\u001b[0m \u001b[1;32min\u001b[0m \u001b[0ma\u001b[0m\u001b[1;33m:\u001b[0m\u001b[1;33m\u001b[0m\u001b[1;33m\u001b[0m\u001b[0m\n\u001b[0m\u001b[0;32m      3\u001b[0m     \u001b[0mprint\u001b[0m\u001b[1;33m(\u001b[0m\u001b[0mi\u001b[0m\u001b[1;33m)\u001b[0m\u001b[1;33m\u001b[0m\u001b[1;33m\u001b[0m\u001b[0m\n",
      "\u001b[1;31mTypeError\u001b[0m: 'int' object is not iterable"
     ]
    },
    {
     "ename": "TypeError",
     "evalue": "'int' object is not iterable",
     "output_type": "error",
     "traceback": [
      "\u001b[1;31m---------------------------------------------------------------------------\u001b[0m",
      "\u001b[1;31mTypeError\u001b[0m                                 Traceback (most recent call last)",
      "\u001b[1;32m<ipython-input-15-3ffb2b791ef4>\u001b[0m in \u001b[0;36m<module>\u001b[1;34m\u001b[0m\n\u001b[0;32m      1\u001b[0m \u001b[0ma\u001b[0m\u001b[1;33m=\u001b[0m\u001b[1;36m1\u001b[0m\u001b[1;33m\u001b[0m\u001b[1;33m\u001b[0m\u001b[0m\n\u001b[1;32m----> 2\u001b[1;33m \u001b[1;32mfor\u001b[0m \u001b[0mi\u001b[0m \u001b[1;32min\u001b[0m \u001b[0ma\u001b[0m\u001b[1;33m:\u001b[0m\u001b[1;33m\u001b[0m\u001b[1;33m\u001b[0m\u001b[0m\n\u001b[0m\u001b[0;32m      3\u001b[0m     \u001b[0mprint\u001b[0m\u001b[1;33m(\u001b[0m\u001b[0mi\u001b[0m\u001b[1;33m)\u001b[0m\u001b[1;33m\u001b[0m\u001b[1;33m\u001b[0m\u001b[0m\n",
      "\u001b[1;31mTypeError\u001b[0m: 'int' object is not iterable"
     ]
    }
   ],
   "source": [
    "\n",
    "for i in a:\n",
    "    print(i)"
   ]
  },
  {
   "cell_type": "code",
   "execution_count": 18,
   "metadata": {},
   "outputs": [
    {
     "name": "stdout",
     "output_type": "stream",
     "text": [
      "v\n",
      "y\n",
      "s\n",
      "h\n",
      "n\n",
      "a\n",
      "v\n",
      "i\n",
      "0\n",
      "v\n",
      "y\n",
      "s\n",
      "h\n",
      "n\n",
      "a\n",
      "v\n",
      "i\n",
      "0\n"
     ]
    }
   ],
   "source": [
    "str=\"vyshnavi\"\n",
    "for x in str:\n",
    "    print(x)\n",
    "print(0)"
   ]
  },
  {
   "cell_type": "code",
   "execution_count": 27,
   "metadata": {},
   "outputs": [
    {
     "name": "stdout",
     "output_type": "stream",
     "text": [
      "ivanhsyvivanhsyv"
     ]
    }
   ],
   "source": [
    "for i in range(len(str)-1,-1,-1):\n",
    "    print(str[i],end='')"
   ]
  },
  {
   "cell_type": "code",
   "execution_count": 32,
   "metadata": {},
   "outputs": [
    {
     "name": "stdout",
     "output_type": "stream",
     "text": [
      "a       A\n",
      "b       B\n",
      "c       C\n",
      "d       D\n",
      "e       E\n",
      "f       F\n",
      "g       G\n",
      "h       H\n",
      "i       I\n",
      "j       J\n",
      "k       K\n",
      "l       L\n",
      "m       M\n",
      "n       N\n",
      "o       O\n",
      "p       P\n",
      "q       Q\n",
      "r       R\n",
      "s       S\n",
      "t       T\n",
      "u       U\n",
      "v       V\n",
      "w       W\n",
      "x       X\n",
      "y       Y\n",
      "-------------------\n",
      "a       A\n",
      "b       B\n",
      "c       C\n",
      "d       D\n",
      "e       E\n",
      "f       F\n",
      "g       G\n",
      "h       H\n",
      "i       I\n",
      "j       J\n",
      "k       K\n",
      "l       L\n",
      "m       M\n",
      "n       N\n",
      "o       O\n",
      "p       P\n",
      "q       Q\n",
      "r       R\n",
      "s       S\n",
      "t       T\n",
      "u       U\n",
      "v       V\n",
      "w       W\n",
      "x       X\n",
      "y       Y\n",
      "-------------------\n"
     ]
    }
   ],
   "source": [
    "for i in range(ord('a'),ord('z')):\n",
    "    print(chr(i),\"     \",chr(i-ord('a')+ord('A')))\n",
    "print('-------------------')"
   ]
  },
  {
   "cell_type": "markdown",
   "metadata": {},
   "source": [
    "## continue"
   ]
  },
  {
   "cell_type": "code",
   "execution_count": 35,
   "metadata": {},
   "outputs": [
    {
     "name": "stdout",
     "output_type": "stream",
     "text": [
      "a       A\n",
      "b       B\n",
      "c       C\n",
      "d       D\n",
      "e       E\n",
      "f       F\n",
      "g       G\n",
      "h       H\n",
      "i       I\n",
      "j       J\n",
      "k       K\n",
      "l       L\n",
      "m       M\n",
      "n       N\n",
      "o       O\n",
      "p       P\n",
      "q       Q\n",
      "r       R\n",
      "------$------\n",
      "t       T\n",
      "u       U\n",
      "v       V\n",
      "w       W\n",
      "x       X\n",
      "y       Y\n",
      "-------------------\n",
      "a       A\n",
      "b       B\n",
      "c       C\n",
      "d       D\n",
      "e       E\n",
      "f       F\n",
      "g       G\n",
      "h       H\n",
      "i       I\n",
      "j       J\n",
      "k       K\n",
      "l       L\n",
      "m       M\n",
      "n       N\n",
      "o       O\n",
      "p       P\n",
      "q       Q\n",
      "r       R\n",
      "------$------\n",
      "t       T\n",
      "u       U\n",
      "v       V\n",
      "w       W\n",
      "x       X\n",
      "y       Y\n",
      "-------------------\n"
     ]
    }
   ],
   "source": [
    "for i in range(ord('a'),ord('z')):\n",
    "    if(chr(i)=='s'):\n",
    "        print('------$------')\n",
    "        continue\n",
    "    print(chr(i),\"     \",chr(i-ord('a')+ord('A')))\n",
    "print('-------------------')"
   ]
  },
  {
   "cell_type": "code",
   "execution_count": 36,
   "metadata": {},
   "outputs": [
    {
     "name": "stdout",
     "output_type": "stream",
     "text": [
      "1\n",
      "2\n",
      "3\n",
      "4\n",
      "5\n",
      "end\n",
      "1\n",
      "2\n",
      "3\n",
      "4\n",
      "5\n",
      "end\n"
     ]
    }
   ],
   "source": [
    "i=1\n",
    "while i<=5:\n",
    "    print(i)\n",
    "    i+=1\n",
    "print('end')"
   ]
  },
  {
   "cell_type": "code",
   "execution_count": 38,
   "metadata": {},
   "outputs": [
    {
     "name": "stdout",
     "output_type": "stream",
     "text": [
      "2 *  1 =  2\n",
      "2 *  2 =  4\n",
      "2 *  3 =  6\n",
      "2 *  4 =  8\n",
      "2 *  5 =  10\n",
      "2 *  6 =  12\n",
      "2 *  7 =  14\n",
      "2 *  8 =  16\n",
      "2 *  9 =  18\n",
      "2 *  10 =  20\n",
      "2 *  1 =  2\n",
      "2 *  2 =  4\n",
      "2 *  3 =  6\n",
      "2 *  4 =  8\n",
      "2 *  5 =  10\n",
      "2 *  6 =  12\n",
      "2 *  7 =  14\n",
      "2 *  8 =  16\n",
      "2 *  9 =  18\n",
      "2 *  10 =  20\n"
     ]
    }
   ],
   "source": [
    "i=1\n",
    "while i<=10:\n",
    "    print('2 * ',i,'= ',2*i)\n",
    "    i+=1"
   ]
  },
  {
   "cell_type": "code",
   "execution_count": 41,
   "metadata": {},
   "outputs": [
    {
     "name": "stdout",
     "output_type": "stream",
     "text": [
      "enter a number6\n",
      "the factiorial of  6 is   720\n",
      "the factiorial of  6 is   720\n"
     ]
    }
   ],
   "source": [
    "n=int(input('enter a number'))\n",
    "i=1\n",
    "x=1\n",
    "while i<=n:\n",
    "    x*=i\n",
    "    i+=1\n",
    "print('the factiorial of ',n,\"is  \",x)"
   ]
  },
  {
   "cell_type": "markdown",
   "metadata": {},
   "source": [
    "## first 15 prime numbers"
   ]
  },
  {
   "cell_type": "code",
   "execution_count": null,
   "metadata": {},
   "outputs": [],
   "source": [
    "i=1\n",
    "x=1\n",
    "while i<=n:\n",
    "    x*=i\n",
    "    i+=1\n",
    "print('the factiorial of ',n,\"is  \",x)"
   ]
  }
 ],
 "metadata": {
  "kernelspec": {
   "display_name": "Python 3",
   "language": "python",
   "name": "python3"
  },
  "language_info": {
   "codemirror_mode": {
    "name": "ipython",
    "version": 3
   },
   "file_extension": ".py",
   "mimetype": "text/x-python",
   "name": "python",
   "nbconvert_exporter": "python",
   "pygments_lexer": "ipython3",
   "version": "3.7.3"
  }
 },
 "nbformat": 4,
 "nbformat_minor": 2
}
