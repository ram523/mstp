{
 "cells": [
  {
   "cell_type": "markdown",
   "metadata": {},
   "source": []
  },
  {
   "cell_type": "code",
   "execution_count": null,
   "metadata": {},
   "outputs": [],
   "source": []
  },
  {
   "cell_type": "code",
   "execution_count": 17,
   "metadata": {},
   "outputs": [
    {
     "name": "stdout",
     "output_type": "stream",
     "text": [
      "hello\n",
      "hi\n",
      "bye1\n",
      "bye2\n"
     ]
    }
   ],
   "source": [
    "file=open('book.txt','r')\n",
    "data=file.read()\n",
    "print(data)\n",
    "\n",
    "file.close()"
   ]
  },
  {
   "cell_type": "code",
   "execution_count": 1,
   "metadata": {},
   "outputs": [],
   "source": [
    "file=open('book.txt','w')\n",
    "file.write(' line 1 \\n line 2 \\n line 3 \\n line 4 \\n line 5')\n",
    "file.close()"
   ]
  },
  {
   "cell_type": "code",
   "execution_count": 18,
   "metadata": {},
   "outputs": [],
   "source": [
    "file=open('books.txt','w')\n",
    "file.write('hello....! my name is vyshnavi\\n')\n",
    "file.close()"
   ]
  },
  {
   "cell_type": "code",
   "execution_count": 19,
   "metadata": {},
   "outputs": [],
   "source": [
    "file=open('book.txt','r')\n",
    "data=file.read()\n",
    "file.close()\n",
    "file=open('books.txt','a')\n",
    "file.write(data)\n",
    "file.close()"
   ]
  },
  {
   "cell_type": "code",
   "execution_count": 7,
   "metadata": {},
   "outputs": [
    {
     "name": "stdout",
     "output_type": "stream",
     "text": [
      "0 \n",
      "55 line_no 1\n",
      "line_no 2\n",
      "line_no 3\n",
      "line_no 4\n",
      "line_no 5\n",
      "\n",
      "55 \n"
     ]
    }
   ],
   "source": [
    "file=open('book.txt','r')\n",
    "print(file.tell(),data)   #tells the position of the  pointer\n",
    "data=file.read()      # READS THE LINES AND POINTER REACHES THE eof\n",
    "print(file.tell(),data)  \n",
    "data=file.read()      #  POINTER REACHES THE eof SO ITS READS null\n",
    "print(file.tell(),data) \n",
    "file.close()"
   ]
  },
  {
   "cell_type": "code",
   "execution_count": 17,
   "metadata": {},
   "outputs": [
    {
     "name": "stdout",
     "output_type": "stream",
     "text": [
      "tell  = 0 data   -   \n",
      "tell  = 49 data   -   line_no 1\n",
      "line_no 2\n",
      "line_no 3\n",
      "line_no 4\n",
      "line_no 5\n",
      "tell  = 2\n",
      "tell  = 49 data   -   ne_no 1\n",
      "line_no 2\n",
      "line_no 3\n",
      "line_no 4\n",
      "line_no 5\n"
     ]
    }
   ],
   "source": [
    "data=''\n",
    "file=open('book.txt','r')\n",
    "print('tell  =',file.tell(),'data   -  ',data)   #tells the position of the  pointer\n",
    "data=file.read()      # READS THE LINES AND POINTER REACHES THE eof\n",
    "print('tell  =',file.tell(),'data   -  ',data) \n",
    "file.seek(2)\n",
    "print('tell  =',file.tell())\n",
    "data=file.read()      #  POINTER REACHES THE eof SO ITS READS null\n",
    "print('tell  =',file.tell(),'data   -  ',data) \n",
    "file.close()"
   ]
  },
  {
   "cell_type": "code",
   "execution_count": 11,
   "metadata": {},
   "outputs": [
    {
     "name": "stdout",
     "output_type": "stream",
     "text": [
      "\n",
      "0\n"
     ]
    }
   ],
   "source": [
    "file=open('book.txt','w+')\n",
    "print(file.read())\n",
    "print(file.tell()) \n",
    "file.close()"
   ]
  },
  {
   "cell_type": "code",
   "execution_count": 19,
   "metadata": {},
   "outputs": [
    {
     "name": "stdout",
     "output_type": "stream",
     "text": [
      "line_no 1\n",
      "\n",
      "['line_no 2\\n', 'line_no 3\\n', 'line_no 4\\n', 'line_no 5']\n"
     ]
    }
   ],
   "source": [
    "file=open('book.txt','r')\n",
    "\n",
    "data=file.readline()\n",
    "print(data)\n",
    "\n",
    "data=file.readlines()\n",
    "print(data)\n",
    "\n",
    "file.close()"
   ]
  },
  {
   "cell_type": "code",
   "execution_count": null,
   "metadata": {},
   "outputs": [],
   "source": []
  }
 ],
 "metadata": {
  "kernelspec": {
   "display_name": "Python 3",
   "language": "python",
   "name": "python3"
  },
  "language_info": {
   "codemirror_mode": {
    "name": "ipython",
    "version": 3
   },
   "file_extension": ".py",
   "mimetype": "text/x-python",
   "name": "python",
   "nbconvert_exporter": "python",
   "pygments_lexer": "ipython3",
   "version": "3.7.3"
  }
 },
 "nbformat": 4,
 "nbformat_minor": 2
}
