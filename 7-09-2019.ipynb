{
 "cells": [
  {
   "cell_type": "markdown",
   "metadata": {},
   "source": [
    "# modules and packages in python\n",
    "* ## a python file contains functions and python statements are called modules"
   ]
  },
  {
   "cell_type": "code",
   "execution_count": 3,
   "metadata": {},
   "outputs": [
    {
     "name": "stdout",
     "output_type": "stream",
     "text": [
      "welcome to the python programming calss vyshnavi we wish u all the best\n"
     ]
    }
   ],
   "source": [
    "import welmod\n",
    "print(welmod.welcome_note('vyshnavi'))"
   ]
  },
  {
   "cell_type": "code",
   "execution_count": 14,
   "metadata": {},
   "outputs": [
    {
     "name": "stdout",
     "output_type": "stream",
     "text": [
      "1\n",
      "0\n",
      "addition 1\n",
      "multiplication 0\n",
      "ZeroDivisionError: division by zero\n",
      "division None\n",
      "subtration 1\n"
     ]
    }
   ],
   "source": [
    "import mymodl\n",
    "a=int(input())\n",
    "b=int(input())\n",
    "print('addition',mymodl.addition(a,b))\n",
    "print('multiplication',mymodl.mult(a,b))\n",
    "print('division',mymodl.divi(a,b))\n",
    "print('subtration',mymodl.subt(a,b))"
   ]
  },
  {
   "cell_type": "code",
   "execution_count": 26,
   "metadata": {},
   "outputs": [],
   "source": [
    "import game.start as gs"
   ]
  },
  {
   "cell_type": "code",
   "execution_count": 27,
   "metadata": {},
   "outputs": [
    {
     "data": {
      "text/plain": [
       "'welcome vyshnavi'"
      ]
     },
     "execution_count": 27,
     "metadata": {},
     "output_type": "execute_result"
    }
   ],
   "source": [
    "gs.user('vyshnavi')"
   ]
  },
  {
   "cell_type": "code",
   "execution_count": 30,
   "metadata": {},
   "outputs": [
    {
     "data": {
      "text/plain": [
       "11"
      ]
     },
     "execution_count": 30,
     "metadata": {},
     "output_type": "execute_result"
    }
   ],
   "source": [
    "gs.start('vysh',10)"
   ]
  },
  {
   "cell_type": "code",
   "execution_count": 31,
   "metadata": {},
   "outputs": [
    {
     "data": {
      "text/plain": [
       "'thanks to play '"
      ]
     },
     "execution_count": 31,
     "metadata": {},
     "output_type": "execute_result"
    }
   ],
   "source": [
    "gs.end()"
   ]
  },
  {
   "cell_type": "code",
   "execution_count": null,
   "metadata": {},
   "outputs": [],
   "source": []
  },
  {
   "cell_type": "markdown",
   "metadata": {},
   "source": [
    "# working with import os"
   ]
  },
  {
   "cell_type": "code",
   "execution_count": 32,
   "metadata": {},
   "outputs": [],
   "source": [
    "import os"
   ]
  },
  {
   "cell_type": "markdown",
   "metadata": {},
   "source": [
    "* # getcwd()"
   ]
  },
  {
   "cell_type": "code",
   "execution_count": 33,
   "metadata": {},
   "outputs": [
    {
     "data": {
      "text/plain": [
       "'C:\\\\Users\\\\pc9\\\\Desktop\\\\python'"
      ]
     },
     "execution_count": 33,
     "metadata": {},
     "output_type": "execute_result"
    }
   ],
   "source": [
    "os.getcwd()"
   ]
  },
  {
   "cell_type": "markdown",
   "metadata": {},
   "source": [
    "# get the files present on directory"
   ]
  },
  {
   "cell_type": "code",
   "execution_count": 39,
   "metadata": {},
   "outputs": [
    {
     "data": {
      "text/plain": [
       "['.git',\n",
       " '.ipynb_checkpoints',\n",
       " '26-08-2019.ipynb',\n",
       " '27-08-2019.ipynb',\n",
       " '3-9-2019.ipynb',\n",
       " '30-08-2019.ipynb',\n",
       " '31-08-2019.ipynb',\n",
       " '4-09-2019.ipynb',\n",
       " '5-09-2019.ipynb',\n",
       " '6-09-2019.ipynb',\n",
       " '7-09-2019.ipynb',\n",
       " 'book.txt',\n",
       " 'books.txt',\n",
       " 'game',\n",
       " 'level2.png',\n",
       " 'my python pro.ipynb',\n",
       " 'mymod.py',\n",
       " 'mymodl.py',\n",
       " 'result.txt',\n",
       " 'result1.txt',\n",
       " 'task-sep-5.ipynb',\n",
       " 'task-sept-6.ipynb',\n",
       " 'tasks.ipynb',\n",
       " 'un.ipynb',\n",
       " '__pycache__']"
      ]
     },
     "execution_count": 39,
     "metadata": {},
     "output_type": "execute_result"
    }
   ],
   "source": [
    "os.listdir()\n"
   ]
  },
  {
   "cell_type": "markdown",
   "metadata": {},
   "source": [
    "# rename\n",
    "* # os.rename(old_file_name.extention,new_file_name.extention)"
   ]
  },
  {
   "cell_type": "code",
   "execution_count": 40,
   "metadata": {},
   "outputs": [],
   "source": [
    "os.rename('book.txt','detail.txt')"
   ]
  },
  {
   "cell_type": "code",
   "execution_count": 41,
   "metadata": {},
   "outputs": [
    {
     "data": {
      "text/plain": [
       "['.git',\n",
       " '.ipynb_checkpoints',\n",
       " '26-08-2019.ipynb',\n",
       " '27-08-2019.ipynb',\n",
       " '3-9-2019.ipynb',\n",
       " '30-08-2019.ipynb',\n",
       " '31-08-2019.ipynb',\n",
       " '4-09-2019.ipynb',\n",
       " '5-09-2019.ipynb',\n",
       " '6-09-2019.ipynb',\n",
       " '7-09-2019.ipynb',\n",
       " 'books.txt',\n",
       " 'detail.txt',\n",
       " 'game',\n",
       " 'level2.png',\n",
       " 'my python pro.ipynb',\n",
       " 'mymod.py',\n",
       " 'mymodl.py',\n",
       " 'result.txt',\n",
       " 'result1.txt',\n",
       " 'task-sep-5.ipynb',\n",
       " 'task-sept-6.ipynb',\n",
       " 'tasks.ipynb',\n",
       " 'un.ipynb',\n",
       " '__pycache__']"
      ]
     },
     "execution_count": 41,
     "metadata": {},
     "output_type": "execute_result"
    }
   ],
   "source": [
    "os.listdir()"
   ]
  },
  {
   "cell_type": "code",
   "execution_count": 44,
   "metadata": {},
   "outputs": [],
   "source": [
    "c=1\n",
    "for i in os.listdir():\n",
    "    os.rename(i,str(c)+i)\n",
    "    c+=1"
   ]
  },
  {
   "cell_type": "code",
   "execution_count": 45,
   "metadata": {},
   "outputs": [
    {
     "data": {
      "text/plain": [
       "['1.git',\n",
       " '106-09-2019.ipynb',\n",
       " '117-09-2019.ipynb',\n",
       " '12books.txt',\n",
       " '13detail.txt',\n",
       " '14game',\n",
       " '15level2.png',\n",
       " '16my python pro.ipynb',\n",
       " '17mymod.py',\n",
       " '18mymodl.py',\n",
       " '19result.txt',\n",
       " '2.ipynb_checkpoints',\n",
       " '20result1.txt',\n",
       " '21task-sep-5.ipynb',\n",
       " '22task-sept-6.ipynb',\n",
       " '23tasks.ipynb',\n",
       " '24un.ipynb',\n",
       " '25__pycache__',\n",
       " '326-08-2019.ipynb',\n",
       " '427-08-2019.ipynb',\n",
       " '53-9-2019.ipynb',\n",
       " '630-08-2019.ipynb',\n",
       " '731-08-2019.ipynb',\n",
       " '84-09-2019.ipynb',\n",
       " '95-09-2019.ipynb']"
      ]
     },
     "execution_count": 45,
     "metadata": {},
     "output_type": "execute_result"
    }
   ],
   "source": [
    "os.listdir()"
   ]
  },
  {
   "cell_type": "markdown",
   "metadata": {},
   "source": [
    "# remove files and folders in directory"
   ]
  },
  {
   "cell_type": "code",
   "execution_count": 48,
   "metadata": {},
   "outputs": [],
   "source": [
    "os.remove('111.txt')"
   ]
  },
  {
   "cell_type": "markdown",
   "metadata": {},
   "source": [
    "# remove empty folder"
   ]
  },
  {
   "cell_type": "code",
   "execution_count": null,
   "metadata": {},
   "outputs": [],
   "source": []
  },
  {
   "cell_type": "code",
   "execution_count": 51,
   "metadata": {},
   "outputs": [],
   "source": [
    "my=[20,30,40,50]\n",
    "my.insert(0,my.pop(3))"
   ]
  },
  {
   "cell_type": "code",
   "execution_count": 52,
   "metadata": {},
   "outputs": [
    {
     "data": {
      "text/plain": [
       "[50, 20, 30, 40]"
      ]
     },
     "execution_count": 52,
     "metadata": {},
     "output_type": "execute_result"
    }
   ],
   "source": [
    "my"
   ]
  },
  {
   "cell_type": "code",
   "execution_count": 53,
   "metadata": {},
   "outputs": [],
   "source": [
    "b=(6)"
   ]
  },
  {
   "cell_type": "code",
   "execution_count": 54,
   "metadata": {},
   "outputs": [
    {
     "data": {
      "text/plain": [
       "6"
      ]
     },
     "execution_count": 54,
     "metadata": {},
     "output_type": "execute_result"
    }
   ],
   "source": [
    "b"
   ]
  },
  {
   "cell_type": "code",
   "execution_count": 55,
   "metadata": {},
   "outputs": [
    {
     "data": {
      "text/plain": [
       "int"
      ]
     },
     "execution_count": 55,
     "metadata": {},
     "output_type": "execute_result"
    }
   ],
   "source": [
    "type(b)"
   ]
  },
  {
   "cell_type": "code",
   "execution_count": 56,
   "metadata": {},
   "outputs": [],
   "source": [
    "b=set()"
   ]
  },
  {
   "cell_type": "code",
   "execution_count": null,
   "metadata": {},
   "outputs": [],
   "source": []
  }
 ],
 "metadata": {
  "kernelspec": {
   "display_name": "Python 3",
   "language": "python",
   "name": "python3"
  },
  "language_info": {
   "codemirror_mode": {
    "name": "ipython",
    "version": 3
   },
   "file_extension": ".py",
   "mimetype": "text/x-python",
   "name": "python",
   "nbconvert_exporter": "python",
   "pygments_lexer": "ipython3",
   "version": "3.7.3"
  }
 },
 "nbformat": 4,
 "nbformat_minor": 2
}
